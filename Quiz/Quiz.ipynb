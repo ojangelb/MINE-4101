{
  "cells": [
    {
      "cell_type": "markdown",
      "metadata": {
        "id": "gwHAEmTHsCvv"
      },
      "source": [
        "# Quiz\n",
        "MINE-4101: Applied Data Science  \n",
        "Univerisdad de los Andes  \n",
        "  \n",
        "Oscar Javier Angel Balcázar"
      ]
    },
    {
      "cell_type": "code",
      "execution_count": 57,
      "metadata": {
        "id": "884_IAqIsCvw"
      },
      "outputs": [],
      "source": [
        "import numpy as np\n",
        "import pandas as pd\n",
        "\n",
        "from sklearn.model_selection import train_test_split\n",
        "from sklearn.preprocessing import StandardScaler, PolynomialFeatures\n",
        "from sklearn.linear_model import LinearRegression, SGDRegressor\n",
        "from sklearn.metrics import mean_squared_error, mean_absolute_error\n",
        "\n",
        "from plotly.offline import init_notebook_mode, iplot, plot\n",
        "import matplotlib.pyplot as plt\n",
        "import seaborn as sns\n"
      ]
    },
    {
      "cell_type": "markdown",
      "metadata": {
        "id": "xZRlzIUasCvx"
      },
      "source": [
        "### Reading the dataset"
      ]
    },
    {
      "cell_type": "code",
      "execution_count": 2,
      "metadata": {
        "id": "R0yO55T6sCvy"
      },
      "outputs": [],
      "source": [
        "medicalCost_df = pd.read_csv('https://raw.githubusercontent.com/ojangelb/MINE-4101/main/Quiz/insurance.csv', sep = ',')"
      ]
    },
    {
      "cell_type": "code",
      "execution_count": 3,
      "metadata": {
        "id": "c-3QZTo-sCvz",
        "colab": {
          "base_uri": "https://localhost:8080/"
        },
        "outputId": "6503b288-1f86-4b03-889e-2cc2ad791c7f"
      },
      "outputs": [
        {
          "output_type": "execute_result",
          "data": {
            "text/plain": [
              "(1338, 7)"
            ]
          },
          "metadata": {},
          "execution_count": 3
        }
      ],
      "source": [
        "medicalCost_df.shape"
      ]
    },
    {
      "cell_type": "markdown",
      "source": [
        "Se eliminan **duplicados**"
      ],
      "metadata": {
        "id": "CToO7AcP0Tmm"
      }
    },
    {
      "cell_type": "code",
      "execution_count": 4,
      "metadata": {
        "id": "S8lfAU5OsCvz",
        "colab": {
          "base_uri": "https://localhost:8080/",
          "height": 424
        },
        "outputId": "77eafec3-2a1e-4d52-eb8f-85b37588ccd9"
      },
      "outputs": [
        {
          "output_type": "execute_result",
          "data": {
            "text/plain": [
              "      age     sex     bmi  children smoker     region      charges\n",
              "0      19  female  27.900         0    yes  southwest  16884.92400\n",
              "1      18    male  33.770         1     no  southeast   1725.55230\n",
              "2      28    male  33.000         3     no  southeast   4449.46200\n",
              "3      33    male  22.705         0     no  northwest  21984.47061\n",
              "4      32    male  28.880         0     no  northwest   3866.85520\n",
              "...   ...     ...     ...       ...    ...        ...          ...\n",
              "1333   50    male  30.970         3     no  northwest  10600.54830\n",
              "1334   18  female  31.920         0     no  northeast   2205.98080\n",
              "1335   18  female  36.850         0     no  southeast   1629.83350\n",
              "1336   21  female  25.800         0     no  southwest   2007.94500\n",
              "1337   61  female  29.070         0    yes  northwest  29141.36030\n",
              "\n",
              "[1337 rows x 7 columns]"
            ],
            "text/html": [
              "\n",
              "  <div id=\"df-8617be19-c0bb-4342-86c5-42fd01ed4db5\">\n",
              "    <div class=\"colab-df-container\">\n",
              "      <div>\n",
              "<style scoped>\n",
              "    .dataframe tbody tr th:only-of-type {\n",
              "        vertical-align: middle;\n",
              "    }\n",
              "\n",
              "    .dataframe tbody tr th {\n",
              "        vertical-align: top;\n",
              "    }\n",
              "\n",
              "    .dataframe thead th {\n",
              "        text-align: right;\n",
              "    }\n",
              "</style>\n",
              "<table border=\"1\" class=\"dataframe\">\n",
              "  <thead>\n",
              "    <tr style=\"text-align: right;\">\n",
              "      <th></th>\n",
              "      <th>age</th>\n",
              "      <th>sex</th>\n",
              "      <th>bmi</th>\n",
              "      <th>children</th>\n",
              "      <th>smoker</th>\n",
              "      <th>region</th>\n",
              "      <th>charges</th>\n",
              "    </tr>\n",
              "  </thead>\n",
              "  <tbody>\n",
              "    <tr>\n",
              "      <th>0</th>\n",
              "      <td>19</td>\n",
              "      <td>female</td>\n",
              "      <td>27.900</td>\n",
              "      <td>0</td>\n",
              "      <td>yes</td>\n",
              "      <td>southwest</td>\n",
              "      <td>16884.92400</td>\n",
              "    </tr>\n",
              "    <tr>\n",
              "      <th>1</th>\n",
              "      <td>18</td>\n",
              "      <td>male</td>\n",
              "      <td>33.770</td>\n",
              "      <td>1</td>\n",
              "      <td>no</td>\n",
              "      <td>southeast</td>\n",
              "      <td>1725.55230</td>\n",
              "    </tr>\n",
              "    <tr>\n",
              "      <th>2</th>\n",
              "      <td>28</td>\n",
              "      <td>male</td>\n",
              "      <td>33.000</td>\n",
              "      <td>3</td>\n",
              "      <td>no</td>\n",
              "      <td>southeast</td>\n",
              "      <td>4449.46200</td>\n",
              "    </tr>\n",
              "    <tr>\n",
              "      <th>3</th>\n",
              "      <td>33</td>\n",
              "      <td>male</td>\n",
              "      <td>22.705</td>\n",
              "      <td>0</td>\n",
              "      <td>no</td>\n",
              "      <td>northwest</td>\n",
              "      <td>21984.47061</td>\n",
              "    </tr>\n",
              "    <tr>\n",
              "      <th>4</th>\n",
              "      <td>32</td>\n",
              "      <td>male</td>\n",
              "      <td>28.880</td>\n",
              "      <td>0</td>\n",
              "      <td>no</td>\n",
              "      <td>northwest</td>\n",
              "      <td>3866.85520</td>\n",
              "    </tr>\n",
              "    <tr>\n",
              "      <th>...</th>\n",
              "      <td>...</td>\n",
              "      <td>...</td>\n",
              "      <td>...</td>\n",
              "      <td>...</td>\n",
              "      <td>...</td>\n",
              "      <td>...</td>\n",
              "      <td>...</td>\n",
              "    </tr>\n",
              "    <tr>\n",
              "      <th>1333</th>\n",
              "      <td>50</td>\n",
              "      <td>male</td>\n",
              "      <td>30.970</td>\n",
              "      <td>3</td>\n",
              "      <td>no</td>\n",
              "      <td>northwest</td>\n",
              "      <td>10600.54830</td>\n",
              "    </tr>\n",
              "    <tr>\n",
              "      <th>1334</th>\n",
              "      <td>18</td>\n",
              "      <td>female</td>\n",
              "      <td>31.920</td>\n",
              "      <td>0</td>\n",
              "      <td>no</td>\n",
              "      <td>northeast</td>\n",
              "      <td>2205.98080</td>\n",
              "    </tr>\n",
              "    <tr>\n",
              "      <th>1335</th>\n",
              "      <td>18</td>\n",
              "      <td>female</td>\n",
              "      <td>36.850</td>\n",
              "      <td>0</td>\n",
              "      <td>no</td>\n",
              "      <td>southeast</td>\n",
              "      <td>1629.83350</td>\n",
              "    </tr>\n",
              "    <tr>\n",
              "      <th>1336</th>\n",
              "      <td>21</td>\n",
              "      <td>female</td>\n",
              "      <td>25.800</td>\n",
              "      <td>0</td>\n",
              "      <td>no</td>\n",
              "      <td>southwest</td>\n",
              "      <td>2007.94500</td>\n",
              "    </tr>\n",
              "    <tr>\n",
              "      <th>1337</th>\n",
              "      <td>61</td>\n",
              "      <td>female</td>\n",
              "      <td>29.070</td>\n",
              "      <td>0</td>\n",
              "      <td>yes</td>\n",
              "      <td>northwest</td>\n",
              "      <td>29141.36030</td>\n",
              "    </tr>\n",
              "  </tbody>\n",
              "</table>\n",
              "<p>1337 rows × 7 columns</p>\n",
              "</div>\n",
              "      <button class=\"colab-df-convert\" onclick=\"convertToInteractive('df-8617be19-c0bb-4342-86c5-42fd01ed4db5')\"\n",
              "              title=\"Convert this dataframe to an interactive table.\"\n",
              "              style=\"display:none;\">\n",
              "        \n",
              "  <svg xmlns=\"http://www.w3.org/2000/svg\" height=\"24px\"viewBox=\"0 0 24 24\"\n",
              "       width=\"24px\">\n",
              "    <path d=\"M0 0h24v24H0V0z\" fill=\"none\"/>\n",
              "    <path d=\"M18.56 5.44l.94 2.06.94-2.06 2.06-.94-2.06-.94-.94-2.06-.94 2.06-2.06.94zm-11 1L8.5 8.5l.94-2.06 2.06-.94-2.06-.94L8.5 2.5l-.94 2.06-2.06.94zm10 10l.94 2.06.94-2.06 2.06-.94-2.06-.94-.94-2.06-.94 2.06-2.06.94z\"/><path d=\"M17.41 7.96l-1.37-1.37c-.4-.4-.92-.59-1.43-.59-.52 0-1.04.2-1.43.59L10.3 9.45l-7.72 7.72c-.78.78-.78 2.05 0 2.83L4 21.41c.39.39.9.59 1.41.59.51 0 1.02-.2 1.41-.59l7.78-7.78 2.81-2.81c.8-.78.8-2.07 0-2.86zM5.41 20L4 18.59l7.72-7.72 1.47 1.35L5.41 20z\"/>\n",
              "  </svg>\n",
              "      </button>\n",
              "      \n",
              "  <style>\n",
              "    .colab-df-container {\n",
              "      display:flex;\n",
              "      flex-wrap:wrap;\n",
              "      gap: 12px;\n",
              "    }\n",
              "\n",
              "    .colab-df-convert {\n",
              "      background-color: #E8F0FE;\n",
              "      border: none;\n",
              "      border-radius: 50%;\n",
              "      cursor: pointer;\n",
              "      display: none;\n",
              "      fill: #1967D2;\n",
              "      height: 32px;\n",
              "      padding: 0 0 0 0;\n",
              "      width: 32px;\n",
              "    }\n",
              "\n",
              "    .colab-df-convert:hover {\n",
              "      background-color: #E2EBFA;\n",
              "      box-shadow: 0px 1px 2px rgba(60, 64, 67, 0.3), 0px 1px 3px 1px rgba(60, 64, 67, 0.15);\n",
              "      fill: #174EA6;\n",
              "    }\n",
              "\n",
              "    [theme=dark] .colab-df-convert {\n",
              "      background-color: #3B4455;\n",
              "      fill: #D2E3FC;\n",
              "    }\n",
              "\n",
              "    [theme=dark] .colab-df-convert:hover {\n",
              "      background-color: #434B5C;\n",
              "      box-shadow: 0px 1px 3px 1px rgba(0, 0, 0, 0.15);\n",
              "      filter: drop-shadow(0px 1px 2px rgba(0, 0, 0, 0.3));\n",
              "      fill: #FFFFFF;\n",
              "    }\n",
              "  </style>\n",
              "\n",
              "      <script>\n",
              "        const buttonEl =\n",
              "          document.querySelector('#df-8617be19-c0bb-4342-86c5-42fd01ed4db5 button.colab-df-convert');\n",
              "        buttonEl.style.display =\n",
              "          google.colab.kernel.accessAllowed ? 'block' : 'none';\n",
              "\n",
              "        async function convertToInteractive(key) {\n",
              "          const element = document.querySelector('#df-8617be19-c0bb-4342-86c5-42fd01ed4db5');\n",
              "          const dataTable =\n",
              "            await google.colab.kernel.invokeFunction('convertToInteractive',\n",
              "                                                     [key], {});\n",
              "          if (!dataTable) return;\n",
              "\n",
              "          const docLinkHtml = 'Like what you see? Visit the ' +\n",
              "            '<a target=\"_blank\" href=https://colab.research.google.com/notebooks/data_table.ipynb>data table notebook</a>'\n",
              "            + ' to learn more about interactive tables.';\n",
              "          element.innerHTML = '';\n",
              "          dataTable['output_type'] = 'display_data';\n",
              "          await google.colab.output.renderOutput(dataTable, element);\n",
              "          const docLink = document.createElement('div');\n",
              "          docLink.innerHTML = docLinkHtml;\n",
              "          element.appendChild(docLink);\n",
              "        }\n",
              "      </script>\n",
              "    </div>\n",
              "  </div>\n",
              "  "
            ]
          },
          "metadata": {},
          "execution_count": 4
        }
      ],
      "source": [
        "medicalCost_df.drop_duplicates()"
      ]
    },
    {
      "cell_type": "markdown",
      "metadata": {
        "id": "rsSXlelOsCv4"
      },
      "source": [
        "### Features to train the model"
      ]
    },
    {
      "cell_type": "code",
      "execution_count": 5,
      "metadata": {
        "id": "SZCgnuPssCv5"
      },
      "outputs": [],
      "source": [
        "medicalCost_df['sex'] = medicalCost_df['sex'].replace('male',1)\n",
        "medicalCost_df['sex'] = medicalCost_df['sex'].replace('female',0)\n",
        "medicalCost_df['smoker'] = medicalCost_df['smoker'].replace('yes',1)\n",
        "medicalCost_df['smoker'] = medicalCost_df['smoker'].replace('no',0)"
      ]
    },
    {
      "cell_type": "markdown",
      "source": [
        "Regiones"
      ],
      "metadata": {
        "id": "7RSgZWzl2XjQ"
      }
    },
    {
      "cell_type": "code",
      "source": [
        "medicalCost_df['region'].unique()"
      ],
      "metadata": {
        "colab": {
          "base_uri": "https://localhost:8080/"
        },
        "id": "UuijbT5V3upy",
        "outputId": "86bcb41d-3b3e-435f-8321-ca417371e2be"
      },
      "execution_count": 6,
      "outputs": [
        {
          "output_type": "execute_result",
          "data": {
            "text/plain": [
              "array(['southwest', 'southeast', 'northwest', 'northeast'], dtype=object)"
            ]
          },
          "metadata": {},
          "execution_count": 6
        }
      ]
    },
    {
      "cell_type": "code",
      "execution_count": 7,
      "metadata": {
        "id": "Oy6r6uVcsCv5"
      },
      "outputs": [],
      "source": [
        "medicalCost_df['region'] = medicalCost_df['region'].replace('southwest',1)\n",
        "medicalCost_df['region'] = medicalCost_df['region'].replace('southeast',2)\n",
        "medicalCost_df['region'] = medicalCost_df['region'].replace('northwest',3)\n",
        "medicalCost_df['region'] = medicalCost_df['region'].replace('northeast',4)"
      ]
    },
    {
      "cell_type": "markdown",
      "metadata": {
        "id": "Mj0OYQRRsCv5"
      },
      "source": [
        "### División del datasets"
      ]
    },
    {
      "cell_type": "code",
      "execution_count": 8,
      "metadata": {
        "id": "y73G6aKlsCv5"
      },
      "outputs": [],
      "source": [
        "features = ['age', 'sex', 'bmi', 'children', 'smoker', 'region']\n",
        "X = medicalCost_df[features]\n",
        "Y = medicalCost_df['charges']"
      ]
    },
    {
      "cell_type": "code",
      "execution_count": 9,
      "metadata": {
        "id": "PKmYhN5CsCv6"
      },
      "outputs": [],
      "source": [
        "X_train, X_test, Y_train, Y_test = train_test_split(X, Y, test_size = 0.2, random_state = 1)"
      ]
    },
    {
      "cell_type": "code",
      "execution_count": 10,
      "metadata": {
        "id": "fRlOvb-dsCv6",
        "colab": {
          "base_uri": "https://localhost:8080/"
        },
        "outputId": "41504385-f7fc-45cb-f49d-7fa718ac9e58"
      },
      "outputs": [
        {
          "output_type": "execute_result",
          "data": {
            "text/plain": [
              "(1070, 6)"
            ]
          },
          "metadata": {},
          "execution_count": 10
        }
      ],
      "source": [
        "X_train.shape"
      ]
    },
    {
      "cell_type": "code",
      "execution_count": 11,
      "metadata": {
        "id": "vfxnEumjsCv7",
        "colab": {
          "base_uri": "https://localhost:8080/"
        },
        "outputId": "d46a2d6c-9e22-462d-9e6e-c7f1dca0d4e8"
      },
      "outputs": [
        {
          "output_type": "execute_result",
          "data": {
            "text/plain": [
              "(268, 6)"
            ]
          },
          "metadata": {},
          "execution_count": 11
        }
      ],
      "source": [
        "X_test.shape"
      ]
    },
    {
      "cell_type": "markdown",
      "metadata": {
        "id": "vBJAXjThsCv7"
      },
      "source": [
        "### Scaling features"
      ]
    },
    {
      "cell_type": "code",
      "execution_count": 12,
      "metadata": {
        "id": "0lBRk16gsCv8"
      },
      "outputs": [],
      "source": [
        "scaler = StandardScaler()"
      ]
    },
    {
      "cell_type": "code",
      "execution_count": 13,
      "metadata": {
        "id": "QwqcKpaQsCv8"
      },
      "outputs": [],
      "source": [
        "X_train_scaled = scaler.fit_transform(X_train)\n",
        "X_test_scaled = scaler.transform(X_test)"
      ]
    },
    {
      "cell_type": "markdown",
      "metadata": {
        "id": "wC3GaXljsCv9"
      },
      "source": [
        "### Entrenamiento del Modelo - Regresión Lineal"
      ]
    },
    {
      "cell_type": "code",
      "execution_count": 14,
      "metadata": {
        "id": "VqTVpXHpsCv9"
      },
      "outputs": [],
      "source": [
        "regr = LinearRegression()"
      ]
    },
    {
      "cell_type": "code",
      "execution_count": 15,
      "metadata": {
        "id": "1IE4PEfVsCv9",
        "colab": {
          "base_uri": "https://localhost:8080/"
        },
        "outputId": "d826aec4-ab6c-469e-d8df-74dfd6222cce"
      },
      "outputs": [
        {
          "output_type": "execute_result",
          "data": {
            "text/plain": [
              "LinearRegression()"
            ]
          },
          "metadata": {},
          "execution_count": 15
        }
      ],
      "source": [
        "regr.fit(X_train_scaled, Y_train)"
      ]
    },
    {
      "cell_type": "code",
      "execution_count": 16,
      "metadata": {
        "id": "ZwHZg_q6sCv-",
        "colab": {
          "base_uri": "https://localhost:8080/"
        },
        "outputId": "d6190793-ba58-4ad9-c6d5-9d1e0d40e4d5"
      },
      "outputs": [
        {
          "output_type": "execute_result",
          "data": {
            "text/plain": [
              "array([3602.77541857, -122.13671165, 1929.20311613,  497.80337376,\n",
              "       9605.29975404,  367.95675551])"
            ]
          },
          "metadata": {},
          "execution_count": 16
        }
      ],
      "source": [
        "regr.coef_"
      ]
    },
    {
      "cell_type": "code",
      "execution_count": 17,
      "metadata": {
        "id": "CA1TbNqRsCv-",
        "colab": {
          "base_uri": "https://localhost:8080/"
        },
        "outputId": "551f7ce8-fdcd-4e76-96fb-c0b1b7b937b2"
      },
      "outputs": [
        {
          "output_type": "execute_result",
          "data": {
            "text/plain": [
              "13230.161574933647"
            ]
          },
          "metadata": {},
          "execution_count": 17
        }
      ],
      "source": [
        "regr.intercept_"
      ]
    },
    {
      "cell_type": "markdown",
      "metadata": {
        "id": "-dBXKsPwsCv-"
      },
      "source": [
        "### Evaluación del modelo"
      ]
    },
    {
      "cell_type": "code",
      "source": [
        "preds_train = regr.predict(X_train_scaled)\n",
        "preds_test = regr.predict(X_test_scaled)"
      ],
      "metadata": {
        "id": "IujMZiK87_-o"
      },
      "execution_count": 18,
      "outputs": []
    },
    {
      "cell_type": "code",
      "source": [
        "mean_absolute_error(Y_train, preds_train), mean_absolute_error(Y_test, preds_test)"
      ],
      "metadata": {
        "colab": {
          "base_uri": "https://localhost:8080/"
        },
        "id": "4ropdJVN8Cz6",
        "outputId": "23f0d391-055e-4280-f6de-8d5c56436598"
      },
      "execution_count": 19,
      "outputs": [
        {
          "output_type": "execute_result",
          "data": {
            "text/plain": [
              "(4170.334007230732, 4056.1183056626537)"
            ]
          },
          "metadata": {},
          "execution_count": 19
        }
      ]
    },
    {
      "cell_type": "code",
      "source": [
        "np.sqrt(mean_squared_error(Y_train, preds_train)), np.sqrt(mean_squared_error(Y_test, preds_test))"
      ],
      "metadata": {
        "colab": {
          "base_uri": "https://localhost:8080/"
        },
        "id": "U7LrFVJI8FzE",
        "outputId": "3b41de81-079b-4a43-9f0a-02b1ed55098b"
      },
      "execution_count": 20,
      "outputs": [
        {
          "output_type": "execute_result",
          "data": {
            "text/plain": [
              "(6067.7734770582765, 5956.564766052585)"
            ]
          },
          "metadata": {},
          "execution_count": 20
        }
      ]
    },
    {
      "cell_type": "markdown",
      "source": [
        "1. ¿Es aceptable el error obtenido?\n",
        "\n",
        "De acuerdo a los resultados el modelo esta prediciendo los valores de cada seguro en más de 6.000 dólares.\n",
        "\n",
        "¿Hay evidencia de overfitting?\n",
        "\n",
        "No, como se mencionó anteriormente el error en prueba y en test es muy alto, es decir hay underfitting. "
      ],
      "metadata": {
        "id": "ZImfg66e-Aca"
      }
    },
    {
      "cell_type": "markdown",
      "source": [
        "### Entrenamiento del Modelo - Transformación polinomial"
      ],
      "metadata": {
        "id": "O33Z9ZIY_JIh"
      }
    },
    {
      "cell_type": "code",
      "source": [
        "poly_features = PolynomialFeatures(degree=2, include_bias=False)\n",
        "X_poly = poly_features.fit_transform(X)\n",
        "\n",
        "poly_reg = LinearRegression()\n",
        "\n",
        "X_train_poly, X_test_poly, Y_train_poly, Y_test_poly = train_test_split(X_poly, Y, test_size = 0.2, random_state = 1)\n",
        "\n",
        "poly_reg.fit(X_train_poly, Y_train_poly)"
      ],
      "metadata": {
        "colab": {
          "base_uri": "https://localhost:8080/"
        },
        "id": "bNP8brFyASOn",
        "outputId": "ea5b8535-83eb-4457-fe46-ec59b34c6e29"
      },
      "execution_count": 21,
      "outputs": [
        {
          "output_type": "execute_result",
          "data": {
            "text/plain": [
              "LinearRegression()"
            ]
          },
          "metadata": {},
          "execution_count": 21
        }
      ]
    },
    {
      "cell_type": "markdown",
      "source": [
        "Evaluación del modelo"
      ],
      "metadata": {
        "id": "ovx2ZrIMFI_D"
      }
    },
    {
      "cell_type": "code",
      "source": [
        "poly_reg.coef_"
      ],
      "metadata": {
        "colab": {
          "base_uri": "https://localhost:8080/"
        },
        "id": "Azr_1LFRFjgs",
        "outputId": "2e849513-efff-43fd-e7ad-5713a8918b35"
      },
      "execution_count": 22,
      "outputs": [
        {
          "output_type": "execute_result",
          "data": {
            "text/plain": [
              "array([-6.24297125e+01, -9.38117865e+02,  3.69414666e+02,  1.06528973e+03,\n",
              "       -8.95881680e+03, -6.44649831e+02,  3.79521582e+00,  2.52888916e+01,\n",
              "        1.65193405e+00,  3.21901963e+00, -2.04577457e+01, -1.63211492e+01,\n",
              "       -9.38117865e+02,  2.41943663e+01, -2.23940686e+02,  2.52419140e+01,\n",
              "       -1.05309732e+02, -7.89016402e+00, -1.20474370e+01,  1.43104538e+03,\n",
              "        3.00592907e+01, -9.13892065e+01, -4.75994689e+02,  1.33290544e+02,\n",
              "       -8.95881680e+03, -3.26472106e+02,  1.55208406e+02])"
            ]
          },
          "metadata": {},
          "execution_count": 22
        }
      ]
    },
    {
      "cell_type": "code",
      "source": [
        "poly_reg.intercept_"
      ],
      "metadata": {
        "colab": {
          "base_uri": "https://localhost:8080/"
        },
        "id": "LWQIP8T6FqKw",
        "outputId": "47bcd0d8-2235-408b-c22c-023ce61e80b8"
      },
      "execution_count": 23,
      "outputs": [
        {
          "output_type": "execute_result",
          "data": {
            "text/plain": [
              "-2261.7532508366476"
            ]
          },
          "metadata": {},
          "execution_count": 23
        }
      ]
    },
    {
      "cell_type": "code",
      "source": [
        "preds_train_poly = poly_reg.predict(X_train_poly)\n",
        "preds_test_poly = poly_reg.predict(X_test_poly)"
      ],
      "metadata": {
        "id": "NDbLwTNtE6ZD"
      },
      "execution_count": 24,
      "outputs": []
    },
    {
      "cell_type": "code",
      "source": [
        "np.sqrt(mean_squared_error(Y_train_poly, preds_train_poly)), np.sqrt(mean_squared_error(Y_test_poly, preds_test_poly))"
      ],
      "metadata": {
        "colab": {
          "base_uri": "https://localhost:8080/"
        },
        "id": "jFOg2IMqGaCO",
        "outputId": "84121aae-df44-4dbf-f4cc-e1f5402bd7a0"
      },
      "execution_count": 25,
      "outputs": [
        {
          "output_type": "execute_result",
          "data": {
            "text/plain": [
              "(4795.25618007516, 4547.832132093696)"
            ]
          },
          "metadata": {},
          "execution_count": 25
        }
      ]
    },
    {
      "cell_type": "markdown",
      "source": [
        "Trasformación Polinomial Grado 11"
      ],
      "metadata": {
        "id": "fgHJFUTrISzr"
      }
    },
    {
      "cell_type": "code",
      "source": [
        "poly_features_11 = PolynomialFeatures(degree=11, include_bias=False)\n",
        "X_poly_11 = poly_features_11.fit_transform(X)\n",
        "\n",
        "poly_reg_11 = LinearRegression()\n",
        "\n",
        "X_train_poly_11, X_test_poly_11, Y_train_poly_11, Y_test_poly_11 = train_test_split(X_poly_11, Y, test_size = 0.2, random_state = 1)\n",
        "\n",
        "poly_reg_11.fit(X_train_poly_11, Y_train_poly_11)"
      ],
      "metadata": {
        "colab": {
          "base_uri": "https://localhost:8080/"
        },
        "id": "d4VfDICvISPt",
        "outputId": "8366e58c-d037-49ad-97e4-4be68cc58bba"
      },
      "execution_count": 26,
      "outputs": [
        {
          "output_type": "execute_result",
          "data": {
            "text/plain": [
              "LinearRegression()"
            ]
          },
          "metadata": {},
          "execution_count": 26
        }
      ]
    },
    {
      "cell_type": "code",
      "source": [
        "poly_reg_11.coef_"
      ],
      "metadata": {
        "colab": {
          "base_uri": "https://localhost:8080/"
        },
        "id": "lasCbuzHIohW",
        "outputId": "99d32535-dcc7-490e-c508-30957ffc8867"
      },
      "execution_count": 27,
      "outputs": [
        {
          "output_type": "execute_result",
          "data": {
            "text/plain": [
              "array([-2.07770061e-02, -1.47819491e-03, -1.53623179e-03, ...,\n",
              "       -3.86447722e-07, -1.50857081e-06, -9.13619728e-04])"
            ]
          },
          "metadata": {},
          "execution_count": 27
        }
      ]
    },
    {
      "cell_type": "code",
      "source": [
        "poly_reg_11.intercept_"
      ],
      "metadata": {
        "colab": {
          "base_uri": "https://localhost:8080/"
        },
        "id": "NIgtOiw1ItYp",
        "outputId": "7bb2968d-f539-44bc-c115-4ab75e0b427e"
      },
      "execution_count": 28,
      "outputs": [
        {
          "output_type": "execute_result",
          "data": {
            "text/plain": [
              "15962.84944495928"
            ]
          },
          "metadata": {},
          "execution_count": 28
        }
      ]
    },
    {
      "cell_type": "code",
      "source": [
        "preds_train_poly_11 = poly_reg_11.predict(X_train_poly_11)\n",
        "preds_test_poly_11 = poly_reg_11.predict(X_test_poly_11)"
      ],
      "metadata": {
        "id": "ODfEXzRMIwXJ"
      },
      "execution_count": 29,
      "outputs": []
    },
    {
      "cell_type": "code",
      "source": [
        "np.sqrt(mean_squared_error(Y_train_poly_11, preds_train_poly_11)), np.sqrt(mean_squared_error(Y_test_poly_11, preds_test_poly_11))"
      ],
      "metadata": {
        "colab": {
          "base_uri": "https://localhost:8080/"
        },
        "id": "GQL-alNTI4VF",
        "outputId": "2bb149df-ffbf-4c06-a1a4-046d85208eb2"
      },
      "execution_count": 30,
      "outputs": [
        {
          "output_type": "execute_result",
          "data": {
            "text/plain": [
              "(1456.3740183435718, 21319088.092977304)"
            ]
          },
          "metadata": {},
          "execution_count": 30
        }
      ]
    },
    {
      "cell_type": "markdown",
      "source": [
        "Regularización Ridge"
      ],
      "metadata": {
        "id": "HAcDDTiSNSsT"
      }
    },
    {
      "cell_type": "markdown",
      "source": [
        "Alfa = 0.001"
      ],
      "metadata": {
        "id": "ItnXoc6kTWcV"
      }
    },
    {
      "cell_type": "code",
      "source": [
        "X_train_ridge, X_test_ridge, Y_train_ridge, Y_test_ridge = train_test_split(X_poly_11, Y, test_size = 0.2, random_state = 1)\n",
        "\n",
        "reg_ridge = SGDRegressor(alpha=0.001, penalty=\"L2\", tol = None, max_iter= 1000)\n",
        "\n",
        "reg_ridge.fit(X_train_ridge, Y_train_ridge)\n"
      ],
      "metadata": {
        "colab": {
          "base_uri": "https://localhost:8080/"
        },
        "id": "J8KkrlolNR6G",
        "outputId": "011c23ea-2834-40e8-e5f2-bfd1d48da866"
      },
      "execution_count": 74,
      "outputs": [
        {
          "output_type": "execute_result",
          "data": {
            "text/plain": [
              "SGDRegressor(alpha=0.001, penalty='L2', tol=None)"
            ]
          },
          "metadata": {},
          "execution_count": 74
        }
      ]
    },
    {
      "cell_type": "code",
      "source": [
        "reg_ridge.coef_"
      ],
      "metadata": {
        "colab": {
          "base_uri": "https://localhost:8080/"
        },
        "outputId": "8d1b0c91-2a42-4db0-bc45-7b28227d3fa6",
        "id": "xRiMdgitQ8EH"
      },
      "execution_count": 59,
      "outputs": [
        {
          "output_type": "execute_result",
          "data": {
            "text/plain": [
              "array([ 6.25729231e+12,  1.22953283e+11,  7.93913215e+12, ...,\n",
              "        2.25112260e+14,  9.32445207e+14, -2.93367648e+17])"
            ]
          },
          "metadata": {},
          "execution_count": 59
        }
      ]
    },
    {
      "cell_type": "code",
      "source": [
        "reg_ridge.intercept_"
      ],
      "metadata": {
        "colab": {
          "base_uri": "https://localhost:8080/"
        },
        "outputId": "785c3591-a548-4e4a-c83c-01bd5ff151a2",
        "id": "Zhd9IiVBQ8EI"
      },
      "execution_count": 60,
      "outputs": [
        {
          "output_type": "execute_result",
          "data": {
            "text/plain": [
              "array([1.67598015e+12])"
            ]
          },
          "metadata": {},
          "execution_count": 60
        }
      ]
    },
    {
      "cell_type": "code",
      "source": [
        "preds_train_reg = reg_ridge.predict(X_train_ridge)\n",
        "preds_test_reg = reg_ridge.predict(X_test_ridge)"
      ],
      "metadata": {
        "id": "xfQ0DUbmQ8EJ"
      },
      "execution_count": 61,
      "outputs": []
    },
    {
      "cell_type": "code",
      "source": [
        "np.sqrt(mean_squared_error(Y_train_ridge, preds_train_reg)), np.sqrt(mean_squared_error(Y_test_ridge, preds_test_reg))"
      ],
      "metadata": {
        "colab": {
          "base_uri": "https://localhost:8080/"
        },
        "outputId": "ce4ffd1c-e82c-498e-b3ac-d86cefafccf4",
        "id": "YSBDxHZNQ8EK"
      },
      "execution_count": 62,
      "outputs": [
        {
          "output_type": "execute_result",
          "data": {
            "text/plain": [
              "(1.6026204052378308e+47, 1.6090706063570007e+47)"
            ]
          },
          "metadata": {},
          "execution_count": 62
        }
      ]
    },
    {
      "cell_type": "markdown",
      "source": [
        "Alfa = 0.1"
      ],
      "metadata": {
        "id": "EqVHkYb_TL9m"
      }
    },
    {
      "cell_type": "code",
      "source": [
        "X_train_ridge_1, X_test_ridge_1, Y_train_ridge_1, Y_test_ridge_1 = train_test_split(X_poly_11, Y, test_size = 0.2, random_state = 1)\n",
        "\n",
        "reg_ridge_1 = SGDRegressor(alpha=0.1, penalty=\"L2\", tol = None, max_iter= 1000)\n",
        "\n",
        "reg_ridge_1.fit(X_train_ridge_1, Y_train_ridge_1)\n"
      ],
      "metadata": {
        "colab": {
          "base_uri": "https://localhost:8080/"
        },
        "outputId": "31b85140-8ec5-4959-fa1b-bdb27a123874",
        "id": "YPaiQqtjZb-E"
      },
      "execution_count": 64,
      "outputs": [
        {
          "output_type": "execute_result",
          "data": {
            "text/plain": [
              "SGDRegressor(alpha=0.1, penalty='L2', tol=None)"
            ]
          },
          "metadata": {},
          "execution_count": 64
        }
      ]
    },
    {
      "cell_type": "code",
      "source": [
        "reg_ridge_1.coef_"
      ],
      "metadata": {
        "colab": {
          "base_uri": "https://localhost:8080/"
        },
        "outputId": "67b9f4b9-9637-49aa-c0de-eb0263509c25",
        "id": "1tJ-EgeCZb-G"
      },
      "execution_count": 65,
      "outputs": [
        {
          "output_type": "execute_result",
          "data": {
            "text/plain": [
              "array([-1.32906599e+11, -6.29013692e+09,  3.02464018e+11, ...,\n",
              "       -9.52351157e+14, -3.77598508e+15, -1.05538030e+17])"
            ]
          },
          "metadata": {},
          "execution_count": 65
        }
      ]
    },
    {
      "cell_type": "code",
      "source": [
        "reg_ridge_1.intercept_"
      ],
      "metadata": {
        "colab": {
          "base_uri": "https://localhost:8080/"
        },
        "outputId": "bb7c3d4c-47ae-405d-d32d-0229793b99e9",
        "id": "7yQSiW6JZb-H"
      },
      "execution_count": 66,
      "outputs": [
        {
          "output_type": "execute_result",
          "data": {
            "text/plain": [
              "array([-4.81931632e+11])"
            ]
          },
          "metadata": {},
          "execution_count": 66
        }
      ]
    },
    {
      "cell_type": "code",
      "source": [
        "preds_train_reg_1 = reg_ridge_1.predict(X_train_ridge_1)\n",
        "preds_test_reg_1 = reg_ridge_1.predict(X_test_ridge_1)"
      ],
      "metadata": {
        "id": "FvTUAuf_Zb-H"
      },
      "execution_count": 67,
      "outputs": []
    },
    {
      "cell_type": "code",
      "source": [
        "np.sqrt(mean_squared_error(Y_train_ridge_1, preds_train_reg_1)), np.sqrt(mean_squared_error(Y_test_ridge_1, preds_test_reg_1))"
      ],
      "metadata": {
        "colab": {
          "base_uri": "https://localhost:8080/"
        },
        "outputId": "b6d1013a-c8ae-4593-aedd-5457452e28cb",
        "id": "kVgCzslLZb-J"
      },
      "execution_count": 68,
      "outputs": [
        {
          "output_type": "execute_result",
          "data": {
            "text/plain": [
              "(1.5841631501885158e+47, 1.6082280102600318e+47)"
            ]
          },
          "metadata": {},
          "execution_count": 68
        }
      ]
    },
    {
      "cell_type": "markdown",
      "source": [
        "Alfa = 2"
      ],
      "metadata": {
        "id": "WIix_gypT9bN"
      }
    },
    {
      "cell_type": "code",
      "source": [
        "X_train_ridge_2, X_test_ridge_2, Y_train_ridge_2, Y_test_ridge_2 = train_test_split(X_poly_11, Y, test_size = 0.2, random_state = 1)\n",
        "\n",
        "reg_ridge_2 = SGDRegressor(alpha=0.1, penalty=\"L2\", tol = None, max_iter= 1000)\n",
        "\n",
        "reg_ridge_2.fit(X_train_ridge_2, Y_train_ridge_2)\n"
      ],
      "metadata": {
        "colab": {
          "base_uri": "https://localhost:8080/"
        },
        "outputId": "44a331ee-164e-4323-f3ab-79021b9b80cd",
        "id": "6Bq6_Iuzapkw"
      },
      "execution_count": 69,
      "outputs": [
        {
          "output_type": "execute_result",
          "data": {
            "text/plain": [
              "SGDRegressor(alpha=0.1, penalty='L2', tol=None)"
            ]
          },
          "metadata": {},
          "execution_count": 69
        }
      ]
    },
    {
      "cell_type": "code",
      "source": [
        "reg_ridge_2.coef_"
      ],
      "metadata": {
        "colab": {
          "base_uri": "https://localhost:8080/"
        },
        "outputId": "02f68eba-0f37-457a-cb05-1456536dde44",
        "id": "9jaENpHSapky"
      },
      "execution_count": 70,
      "outputs": [
        {
          "output_type": "execute_result",
          "data": {
            "text/plain": [
              "array([-2.89864627e+12, -1.12904299e+10, -1.75558879e+12, ...,\n",
              "        6.47084666e+14,  2.40481004e+15, -1.47412350e+17])"
            ]
          },
          "metadata": {},
          "execution_count": 70
        }
      ]
    },
    {
      "cell_type": "code",
      "source": [
        "reg_ridge_2.intercept_"
      ],
      "metadata": {
        "colab": {
          "base_uri": "https://localhost:8080/"
        },
        "outputId": "42b0359b-6f53-49ae-9b39-a2244cfb5b81",
        "id": "0uYeJ7Rtapky"
      },
      "execution_count": 71,
      "outputs": [
        {
          "output_type": "execute_result",
          "data": {
            "text/plain": [
              "array([1.1285965e+12])"
            ]
          },
          "metadata": {},
          "execution_count": 71
        }
      ]
    },
    {
      "cell_type": "code",
      "source": [
        "preds_train_reg_2 = reg_ridge_2.predict(X_train_ridge_2)\n",
        "preds_test_reg_2 = reg_ridge_2.predict(X_test_ridge_2)"
      ],
      "metadata": {
        "id": "kx-aADHgapkz"
      },
      "execution_count": 72,
      "outputs": []
    },
    {
      "cell_type": "code",
      "source": [
        "np.sqrt(mean_squared_error(Y_train_ridge_2, preds_train_reg_2)), np.sqrt(mean_squared_error(Y_test_ridge_2, preds_test_reg_2))"
      ],
      "metadata": {
        "colab": {
          "base_uri": "https://localhost:8080/"
        },
        "outputId": "32e89bf2-ffa1-41e0-ca1d-bb9bd8f4fbce",
        "id": "p0V2TwQUapk0"
      },
      "execution_count": 73,
      "outputs": [
        {
          "output_type": "execute_result",
          "data": {
            "text/plain": [
              "(3.590260529016376e+47, 3.627680262449805e+47)"
            ]
          },
          "metadata": {},
          "execution_count": 73
        }
      ]
    },
    {
      "cell_type": "markdown",
      "source": [
        "¿Fue posible mejorar el error? ¿Qué hiper-parámetros tiene el modelo que produce el menor error?\n",
        "\n",
        "No, no fue posible disminuir el error, se observó que al aumentar el valor de alfa aumentaba mucho el error.\n",
        "\n"
      ],
      "metadata": {
        "id": "8LTcA9Nrb6Uv"
      }
    }
  ],
  "metadata": {
    "kernelspec": {
      "display_name": "Python 3 (ipykernel)",
      "language": "python",
      "name": "python3"
    },
    "language_info": {
      "codemirror_mode": {
        "name": "ipython",
        "version": 3
      },
      "file_extension": ".py",
      "mimetype": "text/x-python",
      "name": "python",
      "nbconvert_exporter": "python",
      "pygments_lexer": "ipython3",
      "version": "3.9.12"
    },
    "colab": {
      "provenance": [],
      "collapsed_sections": []
    }
  },
  "nbformat": 4,
  "nbformat_minor": 0
}