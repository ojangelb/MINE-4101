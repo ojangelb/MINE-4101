{
  "nbformat": 4,
  "nbformat_minor": 0,
  "metadata": {
    "colab": {
      "provenance": [],
      "collapsed_sections": []
    },
    "kernelspec": {
      "name": "python3",
      "display_name": "Python 3"
    },
    "language_info": {
      "name": "python"
    }
  },
  "cells": [
    {
      "cell_type": "markdown",
      "source": [
        "# Taller # 2 - Ciencia de Datos\n",
        "\n",
        "Oscar Javier Angel Balcázar"
      ],
      "metadata": {
        "id": "v-WNcWPXIiWn"
      }
    },
    {
      "cell_type": "markdown",
      "source": [
        "**Objetivo**\n",
        "Evaluar las capacidades del estudiante para desarrollar modelos analíticos supervisados contemplando las etapas de la metodología ASUM-DM, como son el análisis y entendimiento de los datos, preparación de datos, creación de modelos, evaluación y análisis de resultados.\n",
        "\n",
        "**Descripción**\n",
        "\n",
        "La alcaldía de una ciudad está interesada en implementar un nuevo servicio de patinetas para incentivar la movilidad sostenible y como parte de este proceso se encuentra evaluando la viabilidad económica e impacto de dicho servicio. Dado lo anterior, le ha encargado a la consultora Andes CDA el desarrollo de un modelo predictivo de la demanda de patinetas por día con base en datos de una ciudad vecina. Su objetivo como consultor de esta empresa es la creación del mejor modelo posible de regresión lineal que le permita predecir el número de usuarios promedio por día del nuevo servicio, al mismo tiempo de poder entender la importancia y relación de las variables consideradas. A continuación, se relaciona el diccionario de datos:\n",
        "\n",
        "| Instant |\tRecord Index |\n",
        "|---------|--------------|\n",
        "| Date | Date (Format: YYYY-MM-DD) |\n",
        "| Season |\tSeason of the year |\n",
        "| Holiday |\tIs it holiday? |\n",
        "| Weather |\tDescription of the weather situation |\n",
        "| Temp | Temperature in Celsius |\n",
        "| Feel_Temp | Feeling temperature in Celsius |\n",
        "| Hum |\tNormalized humidity |\n",
        "| Wind | Wind speed in m/s |\n",
        "| Casual | Count of casual users |\n",
        "| Registered |\tCount of   registered users |\n",
        "| cnt |\tCount of total rental bikes including both casual and registered |\n"
      ],
      "metadata": {
        "id": "jJ4ivd8RJ9OO"
      }
    },
    {
      "cell_type": "markdown",
      "source": [
        "**Actividades**\n",
        "\n",
        "Responda cada una de las preguntas de negocio utilizando las técnicas y\n",
        "herramientas vistas en clase. En la medida de lo posible, responda cada pregunta\n",
        "aplicando una técnica estadística acompañada de una visualización."
      ],
      "metadata": {
        "id": "lj-QwbN-LwZc"
      }
    },
    {
      "cell_type": "markdown",
      "source": [
        "##### **Importando librerías.**"
      ],
      "metadata": {
        "id": "4srdOejpPYRc"
      }
    },
    {
      "cell_type": "code",
      "source": [
        "!pip install https://github.com/pandas-profiling/pandas-profiling/archive/master.zip"
      ],
      "metadata": {
        "colab": {
          "base_uri": "https://localhost:8080/"
        },
        "id": "wn9y3_gWSMal",
        "outputId": "7a57e3c1-00dd-472f-f65f-7553f7fc68f0"
      },
      "execution_count": 1,
      "outputs": [
        {
          "output_type": "stream",
          "name": "stdout",
          "text": [
            "Looking in indexes: https://pypi.org/simple, https://us-python.pkg.dev/colab-wheels/public/simple/\n",
            "Collecting https://github.com/pandas-profiling/pandas-profiling/archive/master.zip\n",
            "  Downloading https://github.com/pandas-profiling/pandas-profiling/archive/master.zip\n",
            "\u001b[K     \\ 22.0 MB 146 kB/s\n",
            "\u001b[?25hCollecting joblib~=1.2.0\n",
            "  Downloading joblib-1.2.0-py3-none-any.whl (297 kB)\n",
            "\u001b[K     |████████████████████████████████| 297 kB 7.7 MB/s \n",
            "\u001b[?25hRequirement already satisfied: scipy<1.10,>=1.4.1 in /usr/local/lib/python3.7/dist-packages (from pandas-profiling==3.3.1) (1.7.3)\n",
            "Requirement already satisfied: pandas!=1.4.0,<1.5,>1.1 in /usr/local/lib/python3.7/dist-packages (from pandas-profiling==3.3.1) (1.3.5)\n",
            "Requirement already satisfied: matplotlib<3.6,>=3.2 in /usr/local/lib/python3.7/dist-packages (from pandas-profiling==3.3.1) (3.2.2)\n",
            "Requirement already satisfied: pydantic<1.11,>=1.8.1 in /usr/local/lib/python3.7/dist-packages (from pandas-profiling==3.3.1) (1.9.2)\n",
            "Requirement already satisfied: PyYAML<6.1,>=5.0.0 in /usr/local/lib/python3.7/dist-packages (from pandas-profiling==3.3.1) (6.0)\n",
            "Requirement already satisfied: jinja2<3.2,>=2.11.1 in /usr/local/lib/python3.7/dist-packages (from pandas-profiling==3.3.1) (2.11.3)\n",
            "Collecting visions[type_image_path]==0.7.5\n",
            "  Downloading visions-0.7.5-py3-none-any.whl (102 kB)\n",
            "\u001b[K     |████████████████████████████████| 102 kB 76.4 MB/s \n",
            "\u001b[?25hRequirement already satisfied: numpy<1.24,>=1.16.0 in /usr/local/lib/python3.7/dist-packages (from pandas-profiling==3.3.1) (1.21.6)\n",
            "Collecting htmlmin==0.1.12\n",
            "  Downloading htmlmin-0.1.12.tar.gz (19 kB)\n",
            "Requirement already satisfied: missingno<0.6,>=0.4.2 in /usr/local/lib/python3.7/dist-packages (from pandas-profiling==3.3.1) (0.5.1)\n",
            "Collecting phik<0.13,>=0.11.1\n",
            "  Downloading phik-0.12.2-cp37-cp37m-manylinux_2_17_x86_64.manylinux2014_x86_64.whl (690 kB)\n",
            "\u001b[K     |████████████████████████████████| 690 kB 64.1 MB/s \n",
            "\u001b[?25hCollecting tangled-up-in-unicode==0.2.0\n",
            "  Downloading tangled_up_in_unicode-0.2.0-py3-none-any.whl (4.7 MB)\n",
            "\u001b[K     |████████████████████████████████| 4.7 MB 67.3 MB/s \n",
            "\u001b[?25hCollecting requests<2.29,>=2.24.0\n",
            "  Downloading requests-2.28.1-py3-none-any.whl (62 kB)\n",
            "\u001b[K     |████████████████████████████████| 62 kB 1.6 MB/s \n",
            "\u001b[?25hRequirement already satisfied: tqdm<4.65,>=4.48.2 in /usr/local/lib/python3.7/dist-packages (from pandas-profiling==3.3.1) (4.64.1)\n",
            "Requirement already satisfied: seaborn<0.13,>=0.10.1 in /usr/local/lib/python3.7/dist-packages (from pandas-profiling==3.3.1) (0.11.2)\n",
            "Collecting multimethod<1.9,>=1.4\n",
            "  Downloading multimethod-1.8-py3-none-any.whl (9.8 kB)\n",
            "Collecting statsmodels<0.14,>=0.13.2\n",
            "  Downloading statsmodels-0.13.2-cp37-cp37m-manylinux_2_17_x86_64.manylinux2014_x86_64.whl (9.8 MB)\n",
            "\u001b[K     |████████████████████████████████| 9.8 MB 56.1 MB/s \n",
            "\u001b[?25hRequirement already satisfied: attrs>=19.3.0 in /usr/local/lib/python3.7/dist-packages (from visions[type_image_path]==0.7.5->pandas-profiling==3.3.1) (22.1.0)\n",
            "Requirement already satisfied: networkx>=2.4 in /usr/local/lib/python3.7/dist-packages (from visions[type_image_path]==0.7.5->pandas-profiling==3.3.1) (2.6.3)\n",
            "Requirement already satisfied: Pillow in /usr/local/lib/python3.7/dist-packages (from visions[type_image_path]==0.7.5->pandas-profiling==3.3.1) (7.1.2)\n",
            "Collecting imagehash\n",
            "  Downloading ImageHash-4.3.1-py2.py3-none-any.whl (296 kB)\n",
            "\u001b[K     |████████████████████████████████| 296 kB 69.1 MB/s \n",
            "\u001b[?25hRequirement already satisfied: MarkupSafe>=0.23 in /usr/local/lib/python3.7/dist-packages (from jinja2<3.2,>=2.11.1->pandas-profiling==3.3.1) (2.0.1)\n",
            "Requirement already satisfied: pyparsing!=2.0.4,!=2.1.2,!=2.1.6,>=2.0.1 in /usr/local/lib/python3.7/dist-packages (from matplotlib<3.6,>=3.2->pandas-profiling==3.3.1) (3.0.9)\n",
            "Requirement already satisfied: cycler>=0.10 in /usr/local/lib/python3.7/dist-packages (from matplotlib<3.6,>=3.2->pandas-profiling==3.3.1) (0.11.0)\n",
            "Requirement already satisfied: python-dateutil>=2.1 in /usr/local/lib/python3.7/dist-packages (from matplotlib<3.6,>=3.2->pandas-profiling==3.3.1) (2.8.2)\n",
            "Requirement already satisfied: kiwisolver>=1.0.1 in /usr/local/lib/python3.7/dist-packages (from matplotlib<3.6,>=3.2->pandas-profiling==3.3.1) (1.4.4)\n",
            "Requirement already satisfied: typing-extensions in /usr/local/lib/python3.7/dist-packages (from kiwisolver>=1.0.1->matplotlib<3.6,>=3.2->pandas-profiling==3.3.1) (4.1.1)\n",
            "Requirement already satisfied: pytz>=2017.3 in /usr/local/lib/python3.7/dist-packages (from pandas!=1.4.0,<1.5,>1.1->pandas-profiling==3.3.1) (2022.2.1)\n",
            "Requirement already satisfied: six>=1.5 in /usr/local/lib/python3.7/dist-packages (from python-dateutil>=2.1->matplotlib<3.6,>=3.2->pandas-profiling==3.3.1) (1.15.0)\n",
            "Requirement already satisfied: certifi>=2017.4.17 in /usr/local/lib/python3.7/dist-packages (from requests<2.29,>=2.24.0->pandas-profiling==3.3.1) (2022.6.15)\n",
            "Requirement already satisfied: idna<4,>=2.5 in /usr/local/lib/python3.7/dist-packages (from requests<2.29,>=2.24.0->pandas-profiling==3.3.1) (2.10)\n",
            "Requirement already satisfied: charset-normalizer<3,>=2 in /usr/local/lib/python3.7/dist-packages (from requests<2.29,>=2.24.0->pandas-profiling==3.3.1) (2.1.1)\n",
            "Requirement already satisfied: urllib3<1.27,>=1.21.1 in /usr/local/lib/python3.7/dist-packages (from requests<2.29,>=2.24.0->pandas-profiling==3.3.1) (1.24.3)\n",
            "Requirement already satisfied: patsy>=0.5.2 in /usr/local/lib/python3.7/dist-packages (from statsmodels<0.14,>=0.13.2->pandas-profiling==3.3.1) (0.5.2)\n",
            "Requirement already satisfied: packaging>=21.3 in /usr/local/lib/python3.7/dist-packages (from statsmodels<0.14,>=0.13.2->pandas-profiling==3.3.1) (21.3)\n",
            "Requirement already satisfied: PyWavelets in /usr/local/lib/python3.7/dist-packages (from imagehash->visions[type_image_path]==0.7.5->pandas-profiling==3.3.1) (1.3.0)\n",
            "Building wheels for collected packages: pandas-profiling, htmlmin\n",
            "  Building wheel for pandas-profiling (setup.py) ... \u001b[?25l\u001b[?25hdone\n",
            "  Created wheel for pandas-profiling: filename=pandas_profiling-3.3.1-py2.py3-none-any.whl size=310107 sha256=9a6091163cb74c5cb2de4fa076737d4cd2ac1514c857c8a29487ae25e7ccdbad\n",
            "  Stored in directory: /tmp/pip-ephem-wheel-cache-ytqnz5k5/wheels/cc/d5/09/083fb07c9363a2f45854b0e3a7de7d7c560f07da74b9e9769d\n",
            "  Building wheel for htmlmin (setup.py) ... \u001b[?25l\u001b[?25hdone\n",
            "  Created wheel for htmlmin: filename=htmlmin-0.1.12-py3-none-any.whl size=27098 sha256=06e49a83ed3944e5627661a837752542330cfd11416aefa339f8dcaa1adbd0f3\n",
            "  Stored in directory: /root/.cache/pip/wheels/70/e1/52/5b14d250ba868768823940c3229e9950d201a26d0bd3ee8655\n",
            "Successfully built pandas-profiling htmlmin\n",
            "Installing collected packages: tangled-up-in-unicode, multimethod, visions, joblib, imagehash, statsmodels, requests, phik, htmlmin, pandas-profiling\n",
            "  Attempting uninstall: joblib\n",
            "    Found existing installation: joblib 1.1.0\n",
            "    Uninstalling joblib-1.1.0:\n",
            "      Successfully uninstalled joblib-1.1.0\n",
            "  Attempting uninstall: statsmodels\n",
            "    Found existing installation: statsmodels 0.12.2\n",
            "    Uninstalling statsmodels-0.12.2:\n",
            "      Successfully uninstalled statsmodels-0.12.2\n",
            "  Attempting uninstall: requests\n",
            "    Found existing installation: requests 2.23.0\n",
            "    Uninstalling requests-2.23.0:\n",
            "      Successfully uninstalled requests-2.23.0\n",
            "  Attempting uninstall: pandas-profiling\n",
            "    Found existing installation: pandas-profiling 1.4.1\n",
            "    Uninstalling pandas-profiling-1.4.1:\n",
            "      Successfully uninstalled pandas-profiling-1.4.1\n",
            "Successfully installed htmlmin-0.1.12 imagehash-4.3.1 joblib-1.2.0 multimethod-1.8 pandas-profiling-3.3.1 phik-0.12.2 requests-2.28.1 statsmodels-0.13.2 tangled-up-in-unicode-0.2.0 visions-0.7.5\n"
          ]
        }
      ]
    },
    {
      "cell_type": "code",
      "source": [
        "# Importing libraries\n",
        "\n",
        "import numpy as np\n",
        "import pandas as pd\n",
        "from pandas_profiling import ProfileReport\n",
        "import csv\n",
        "import plotly.express as px\n",
        "from plotly.offline import init_notebook_mode, iplot, plot\n",
        "import matplotlib.pyplot as plt\n",
        "\n",
        "from sklearn.model_selection import train_test_split\n",
        "from sklearn.preprocessing import StandardScaler, PolynomialFeatures\n",
        "from sklearn.linear_model import LinearRegression, SGDRegressor\n",
        "from sklearn.metrics import mean_squared_error, mean_absolute_error"
      ],
      "metadata": {
        "id": "y5CrBvusSezi"
      },
      "execution_count": 2,
      "outputs": []
    },
    {
      "cell_type": "markdown",
      "source": [
        "####  **Lectura del DataSet**"
      ],
      "metadata": {
        "id": "TdLhJSr_5KWK"
      }
    },
    {
      "cell_type": "code",
      "source": [
        "# Loading the CSV file as dataframe\n",
        "pd.set_option('display.max_rows', None)\n",
        "movilidad_df = pd.read_csv('https://raw.githubusercontent.com/ojangelb/MINE-4101/main/Taller_2/dataset/Data_Taller_2.csv', delimiter=\";\")\n"
      ],
      "metadata": {
        "id": "vk26bogEVUix"
      },
      "execution_count": 3,
      "outputs": []
    },
    {
      "cell_type": "markdown",
      "source": [
        "### Limpieza y preparación de los Datos"
      ],
      "metadata": {
        "id": "hT8BLeAnN87n"
      }
    },
    {
      "cell_type": "code",
      "source": [
        "# The record with the wrong date is deleted.\n",
        "index = movilidad_df[(movilidad_df.Date == '29/02/2021')].index\n",
        "\n",
        "# Special characters are replaced and the Holiday column is converted to binary\n",
        "movilidad_df = movilidad_df.drop(index)\n",
        "movilidad_df['Temp'] = movilidad_df['Temp'].str.replace(',', '.')\n",
        "movilidad_df['Feel_Temp'] = movilidad_df['Feel_Temp'].str.replace(',', '.')\n",
        "movilidad_df['Hum'] = movilidad_df['Hum'].str.replace(',', '.')\n",
        "movilidad_df['Wind'] = movilidad_df['Wind'].str.replace(',', '.')\n",
        "movilidad_df['Holiday'] = movilidad_df['Holiday'].str.replace('Yes', '1').str.replace('No', '0')\n",
        "movilidad_df.shape"
      ],
      "metadata": {
        "colab": {
          "base_uri": "https://localhost:8080/"
        },
        "id": "s_vDeP2BJr8y",
        "outputId": "4d2c00d2-c901-4c21-ea38-8f2ffa251553"
      },
      "execution_count": 4,
      "outputs": [
        {
          "output_type": "execute_result",
          "data": {
            "text/plain": [
              "(730, 12)"
            ]
          },
          "metadata": {},
          "execution_count": 4
        }
      ]
    },
    {
      "cell_type": "code",
      "source": [
        "# The text string is converted to a date and with this the day of the week is returned in a new column\n",
        "movilidad_df['Date'] = pd.to_datetime(movilidad_df['Date'])\n",
        "movilidad_df['day_of_week'] = movilidad_df['Date'].dt.dayofweek"
      ],
      "metadata": {
        "id": "nWl0DwK8PjK3"
      },
      "execution_count": 5,
      "outputs": []
    },
    {
      "cell_type": "markdown",
      "source": [
        "According to the suggestion of the meteorologist, the following grouping of the climate was carried out\n",
        "\n",
        "1. Mist will be replace by 0\n",
        "\n",
        "  Mist + Cloudy \\\n",
        "Mist \\\n",
        "Mist + Broken clouds \\\n",
        "Mist + Few clouds \\\n",
        "\n",
        "2. Rain will be replace by 1 \\\n",
        "Rain + Thunderstorm \\\n",
        "Light Rain + Scattered clouds \\\n",
        "\n",
        "3. Other will be replace by 2 \\\n",
        "Few clouds \\\n",
        "Partly    cloudy \\\n",
        "Clear \\\n",
        "Partly cloudy \\\n",
        "Snow \\"
      ],
      "metadata": {
        "id": "69ECLh7D2VUf"
      }
    },
    {
      "cell_type": "code",
      "source": [
        "movilidad_df['Weather'].unique()"
      ],
      "metadata": {
        "colab": {
          "base_uri": "https://localhost:8080/"
        },
        "id": "El1D4fx20POa",
        "outputId": "0cb11077-1a4c-4f16-9510-5a2ba47dcba8"
      },
      "execution_count": 6,
      "outputs": [
        {
          "output_type": "execute_result",
          "data": {
            "text/plain": [
              "array(['Mist + Cloudy', 'Few clouds', ' Partly    cloudy', 'Clear',\n",
              "       'Mist', 'Mist + Broken clouds', ' Partly cloudy',\n",
              "       'Mist + Few clouds', 'Rain + Thunderstorm',\n",
              "       'Light Rain + Scattered clouds', 'Snow'], dtype=object)"
            ]
          },
          "metadata": {},
          "execution_count": 6
        }
      ]
    },
    {
      "cell_type": "code",
      "source": [
        "movilidad_df['Weather'] = movilidad_df['Weather'].str.replace(\"+\", '').str.replace(\" \", '')\n",
        "movilidad_df['Weather_num'] = movilidad_df['Weather']"
      ],
      "metadata": {
        "colab": {
          "base_uri": "https://localhost:8080/"
        },
        "id": "CLb3S1CZDtYa",
        "outputId": "f857a288-60ba-48e1-f973-4d4a37a47d54"
      },
      "execution_count": 7,
      "outputs": [
        {
          "output_type": "stream",
          "name": "stderr",
          "text": [
            "/usr/local/lib/python3.7/dist-packages/ipykernel_launcher.py:1: FutureWarning:\n",
            "\n",
            "The default value of regex will change from True to False in a future version. In addition, single character regular expressions will *not* be treated as literal strings when regex=True.\n",
            "\n"
          ]
        }
      ]
    },
    {
      "cell_type": "code",
      "source": [
        "movilidad_df['Weather'] = movilidad_df['Weather'].str.replace(\"MistCloudy\", 'Mist')\n",
        "movilidad_df['Weather'] = movilidad_df['Weather'].str.replace(\"MistBrokenclouds\", 'Mist')\n",
        "movilidad_df['Weather'] = movilidad_df['Weather'].str.replace(\"MistBrokenclouds\", 'Mist')\n",
        "movilidad_df['Weather'] = movilidad_df['Weather'].str.replace(\"MistFewclouds\", 'Mist')\n",
        "movilidad_df['Weather'] = movilidad_df['Weather'].str.replace('Mist', 'Mist')\n",
        "movilidad_df['Weather'] = movilidad_df['Weather'].str.replace('RainThunderstorm', 'Rain')\n",
        "movilidad_df['Weather'] = movilidad_df['Weather'].str.replace('LightRainScatteredclouds', 'Rain')\n",
        "\n",
        "movilidad_df['Weather'] = movilidad_df['Weather'].str.replace('Fewclouds', 'Other Weather')\n",
        "movilidad_df['Weather'] = movilidad_df['Weather'].str.replace('Partlycloudy', 'Other Weather')\n",
        "movilidad_df['Weather'] = movilidad_df['Weather'].str.replace('Clear', 'Other Weather')\n",
        "movilidad_df['Weather'] = movilidad_df['Weather'].str.replace('Partlycloudy', 'Other Weather')\n",
        "movilidad_df['Weather'] = movilidad_df['Weather'].str.replace('Snow', 'Other Weather')\n"
      ],
      "metadata": {
        "id": "3P3eZebaiVbb"
      },
      "execution_count": 8,
      "outputs": []
    },
    {
      "cell_type": "code",
      "source": [
        "\n",
        "movilidad_df['Weather_num'] = movilidad_df['Weather_num'].str.replace(\"MistCloudy\", '0')\n",
        "movilidad_df['Weather_num'] = movilidad_df['Weather_num'].str.replace(\"MistBrokenclouds\", '0')\n",
        "movilidad_df['Weather_num'] = movilidad_df['Weather_num'].str.replace(\"MistBrokenclouds\", '0')\n",
        "movilidad_df['Weather_num'] = movilidad_df['Weather_num'].str.replace(\"MistFewclouds\", '0')\n",
        "movilidad_df['Weather_num'] = movilidad_df['Weather_num'].str.replace('Mist', '0')\n",
        "movilidad_df['Weather_num'] = movilidad_df['Weather_num'].str.replace('RainThunderstorm', '1')\n",
        "movilidad_df['Weather_num'] = movilidad_df['Weather_num'].str.replace('LightRainScatteredclouds', '1')\n",
        "\n",
        "movilidad_df['Weather_num'] = movilidad_df['Weather_num'].str.replace('Fewclouds', '2')\n",
        "movilidad_df['Weather_num'] = movilidad_df['Weather_num'].str.replace('Partlycloudy', '2')\n",
        "movilidad_df['Weather_num'] = movilidad_df['Weather_num'].str.replace('Clear', '2')\n",
        "movilidad_df['Weather_num'] = movilidad_df['Weather_num'].str.replace('Partlycloudy', '2')\n",
        "movilidad_df['Weather_num'] = movilidad_df['Weather_num'].str.replace('Snow', '2')"
      ],
      "metadata": {
        "id": "1pia6Ztn8A64"
      },
      "execution_count": 9,
      "outputs": []
    },
    {
      "cell_type": "code",
      "source": [
        "movilidad_df['Weather_num'].unique()"
      ],
      "metadata": {
        "colab": {
          "base_uri": "https://localhost:8080/"
        },
        "id": "_BFzhEOA9jfB",
        "outputId": "ce67f85d-3988-448d-e88c-c1d48bdda29a"
      },
      "execution_count": 10,
      "outputs": [
        {
          "output_type": "execute_result",
          "data": {
            "text/plain": [
              "array(['0', '2', '1'], dtype=object)"
            ]
          },
          "metadata": {},
          "execution_count": 10
        }
      ]
    },
    {
      "cell_type": "code",
      "source": [
        "# Set data types in Dataframe\n",
        "movilidad_df = movilidad_df.astype({'Holiday': np.int0,'Weather_num': np.int0,'Temp': np.float64, 'Feel_Temp': np.float64, 'Hum': np.float64, 'Wind': np.float64})"
      ],
      "metadata": {
        "id": "AbXtq73XSx6s"
      },
      "execution_count": 11,
      "outputs": []
    },
    {
      "cell_type": "code",
      "source": [
        "movilidad_df.dtypes"
      ],
      "metadata": {
        "colab": {
          "base_uri": "https://localhost:8080/"
        },
        "id": "o7_8sQYmOwFx",
        "outputId": "47f59591-021d-4698-f702-eee4ef3a3948"
      },
      "execution_count": 12,
      "outputs": [
        {
          "output_type": "execute_result",
          "data": {
            "text/plain": [
              "instant                 int64\n",
              "Date           datetime64[ns]\n",
              "Season                 object\n",
              "Holiday                 int64\n",
              "Weather                object\n",
              "Temp                  float64\n",
              "Feel_Temp             float64\n",
              "Hum                   float64\n",
              "Wind                  float64\n",
              "Casual                  int64\n",
              "Registered              int64\n",
              "cnt                     int64\n",
              "day_of_week             int64\n",
              "Weather_num             int64\n",
              "dtype: object"
            ]
          },
          "metadata": {},
          "execution_count": 12
        }
      ]
    },
    {
      "cell_type": "code",
      "source": [
        "movilidad_df.isnull().sum()"
      ],
      "metadata": {
        "colab": {
          "base_uri": "https://localhost:8080/"
        },
        "id": "J9LIteL9daao",
        "outputId": "1323a3f7-61d7-452e-9991-634b499f81f8"
      },
      "execution_count": 13,
      "outputs": [
        {
          "output_type": "execute_result",
          "data": {
            "text/plain": [
              "instant        0\n",
              "Date           0\n",
              "Season         0\n",
              "Holiday        0\n",
              "Weather        0\n",
              "Temp           4\n",
              "Feel_Temp      0\n",
              "Hum            0\n",
              "Wind           0\n",
              "Casual         0\n",
              "Registered     0\n",
              "cnt            0\n",
              "day_of_week    0\n",
              "Weather_num    0\n",
              "dtype: int64"
            ]
          },
          "metadata": {},
          "execution_count": 13
        }
      ]
    },
    {
      "cell_type": "code",
      "source": [
        "# Fields with null values ​​are filled\n",
        "movilidad_df['Temp'].fillna(movilidad_df['Feel_Temp'] -0.8, inplace=True)"
      ],
      "metadata": {
        "id": "y324CQ_2en9b"
      },
      "execution_count": 14,
      "outputs": []
    },
    {
      "cell_type": "code",
      "source": [
        "# The outlier in temperature is corrected\n",
        "movilidad_df['Validate_Temp'] = movilidad_df['Temp'] - movilidad_df['Feel_Temp']\n",
        "movilidad_temp = movilidad_df[(movilidad_df.Validate_Temp > 10) | (movilidad_df.Validate_Temp < -10)]\n",
        "movilidad_temp"
      ],
      "metadata": {
        "colab": {
          "base_uri": "https://localhost:8080/",
          "height": 81
        },
        "id": "dGRUCcfffbHG",
        "outputId": "c9b46649-45e9-42b3-fd30-545c2979854e"
      },
      "execution_count": 15,
      "outputs": [
        {
          "output_type": "execute_result",
          "data": {
            "text/plain": [
              "     instant       Date Season  Holiday        Weather       Temp  Feel_Temp  \\\n",
              "594      595 2021-08-17   Fall        0  Other Weather  25.996651     3.3928   \n",
              "\n",
              "          Hum       Wind  Casual  Registered   cnt  day_of_week  Weather_num  \\\n",
              "594  0.570833  15.500718    1483        5665  7148            1            2   \n",
              "\n",
              "     Validate_Temp  \n",
              "594      22.603851  "
            ],
            "text/html": [
              "\n",
              "  <div id=\"df-6c9d3d42-0b47-4fc0-8238-ab3b9deb29ed\">\n",
              "    <div class=\"colab-df-container\">\n",
              "      <div>\n",
              "<style scoped>\n",
              "    .dataframe tbody tr th:only-of-type {\n",
              "        vertical-align: middle;\n",
              "    }\n",
              "\n",
              "    .dataframe tbody tr th {\n",
              "        vertical-align: top;\n",
              "    }\n",
              "\n",
              "    .dataframe thead th {\n",
              "        text-align: right;\n",
              "    }\n",
              "</style>\n",
              "<table border=\"1\" class=\"dataframe\">\n",
              "  <thead>\n",
              "    <tr style=\"text-align: right;\">\n",
              "      <th></th>\n",
              "      <th>instant</th>\n",
              "      <th>Date</th>\n",
              "      <th>Season</th>\n",
              "      <th>Holiday</th>\n",
              "      <th>Weather</th>\n",
              "      <th>Temp</th>\n",
              "      <th>Feel_Temp</th>\n",
              "      <th>Hum</th>\n",
              "      <th>Wind</th>\n",
              "      <th>Casual</th>\n",
              "      <th>Registered</th>\n",
              "      <th>cnt</th>\n",
              "      <th>day_of_week</th>\n",
              "      <th>Weather_num</th>\n",
              "      <th>Validate_Temp</th>\n",
              "    </tr>\n",
              "  </thead>\n",
              "  <tbody>\n",
              "    <tr>\n",
              "      <th>594</th>\n",
              "      <td>595</td>\n",
              "      <td>2021-08-17</td>\n",
              "      <td>Fall</td>\n",
              "      <td>0</td>\n",
              "      <td>Other Weather</td>\n",
              "      <td>25.996651</td>\n",
              "      <td>3.3928</td>\n",
              "      <td>0.570833</td>\n",
              "      <td>15.500718</td>\n",
              "      <td>1483</td>\n",
              "      <td>5665</td>\n",
              "      <td>7148</td>\n",
              "      <td>1</td>\n",
              "      <td>2</td>\n",
              "      <td>22.603851</td>\n",
              "    </tr>\n",
              "  </tbody>\n",
              "</table>\n",
              "</div>\n",
              "      <button class=\"colab-df-convert\" onclick=\"convertToInteractive('df-6c9d3d42-0b47-4fc0-8238-ab3b9deb29ed')\"\n",
              "              title=\"Convert this dataframe to an interactive table.\"\n",
              "              style=\"display:none;\">\n",
              "        \n",
              "  <svg xmlns=\"http://www.w3.org/2000/svg\" height=\"24px\"viewBox=\"0 0 24 24\"\n",
              "       width=\"24px\">\n",
              "    <path d=\"M0 0h24v24H0V0z\" fill=\"none\"/>\n",
              "    <path d=\"M18.56 5.44l.94 2.06.94-2.06 2.06-.94-2.06-.94-.94-2.06-.94 2.06-2.06.94zm-11 1L8.5 8.5l.94-2.06 2.06-.94-2.06-.94L8.5 2.5l-.94 2.06-2.06.94zm10 10l.94 2.06.94-2.06 2.06-.94-2.06-.94-.94-2.06-.94 2.06-2.06.94z\"/><path d=\"M17.41 7.96l-1.37-1.37c-.4-.4-.92-.59-1.43-.59-.52 0-1.04.2-1.43.59L10.3 9.45l-7.72 7.72c-.78.78-.78 2.05 0 2.83L4 21.41c.39.39.9.59 1.41.59.51 0 1.02-.2 1.41-.59l7.78-7.78 2.81-2.81c.8-.78.8-2.07 0-2.86zM5.41 20L4 18.59l7.72-7.72 1.47 1.35L5.41 20z\"/>\n",
              "  </svg>\n",
              "      </button>\n",
              "      \n",
              "  <style>\n",
              "    .colab-df-container {\n",
              "      display:flex;\n",
              "      flex-wrap:wrap;\n",
              "      gap: 12px;\n",
              "    }\n",
              "\n",
              "    .colab-df-convert {\n",
              "      background-color: #E8F0FE;\n",
              "      border: none;\n",
              "      border-radius: 50%;\n",
              "      cursor: pointer;\n",
              "      display: none;\n",
              "      fill: #1967D2;\n",
              "      height: 32px;\n",
              "      padding: 0 0 0 0;\n",
              "      width: 32px;\n",
              "    }\n",
              "\n",
              "    .colab-df-convert:hover {\n",
              "      background-color: #E2EBFA;\n",
              "      box-shadow: 0px 1px 2px rgba(60, 64, 67, 0.3), 0px 1px 3px 1px rgba(60, 64, 67, 0.15);\n",
              "      fill: #174EA6;\n",
              "    }\n",
              "\n",
              "    [theme=dark] .colab-df-convert {\n",
              "      background-color: #3B4455;\n",
              "      fill: #D2E3FC;\n",
              "    }\n",
              "\n",
              "    [theme=dark] .colab-df-convert:hover {\n",
              "      background-color: #434B5C;\n",
              "      box-shadow: 0px 1px 3px 1px rgba(0, 0, 0, 0.15);\n",
              "      filter: drop-shadow(0px 1px 2px rgba(0, 0, 0, 0.3));\n",
              "      fill: #FFFFFF;\n",
              "    }\n",
              "  </style>\n",
              "\n",
              "      <script>\n",
              "        const buttonEl =\n",
              "          document.querySelector('#df-6c9d3d42-0b47-4fc0-8238-ab3b9deb29ed button.colab-df-convert');\n",
              "        buttonEl.style.display =\n",
              "          google.colab.kernel.accessAllowed ? 'block' : 'none';\n",
              "\n",
              "        async function convertToInteractive(key) {\n",
              "          const element = document.querySelector('#df-6c9d3d42-0b47-4fc0-8238-ab3b9deb29ed');\n",
              "          const dataTable =\n",
              "            await google.colab.kernel.invokeFunction('convertToInteractive',\n",
              "                                                     [key], {});\n",
              "          if (!dataTable) return;\n",
              "\n",
              "          const docLinkHtml = 'Like what you see? Visit the ' +\n",
              "            '<a target=\"_blank\" href=https://colab.research.google.com/notebooks/data_table.ipynb>data table notebook</a>'\n",
              "            + ' to learn more about interactive tables.';\n",
              "          element.innerHTML = '';\n",
              "          dataTable['output_type'] = 'display_data';\n",
              "          await google.colab.output.renderOutput(dataTable, element);\n",
              "          const docLink = document.createElement('div');\n",
              "          docLink.innerHTML = docLinkHtml;\n",
              "          element.appendChild(docLink);\n",
              "        }\n",
              "      </script>\n",
              "    </div>\n",
              "  </div>\n",
              "  "
            ]
          },
          "metadata": {},
          "execution_count": 15
        }
      ]
    },
    {
      "cell_type": "code",
      "source": [
        "movilidad_df.loc[movilidad_df['instant'] == 595, ['Feel_Temp']] = 22.8"
      ],
      "metadata": {
        "id": "Wg81SmE0iXbH"
      },
      "execution_count": 16,
      "outputs": []
    },
    {
      "cell_type": "markdown",
      "source": [
        "Se realizó imputación de valores a un dato atipico que se detalla en la nota 1"
      ],
      "metadata": {
        "id": "oauQN7b2uIOS"
      }
    },
    {
      "cell_type": "code",
      "source": [
        "movilidad_df.loc[movilidad_df['instant'] == 568, ['Casual']] = 153\n",
        "movilidad_df.loc[movilidad_df['instant'] == 568, ['Registered']] = 1689\n",
        "movilidad_df.loc[movilidad_df['instant'] == 568, ['cnt']] = 1842"
      ],
      "metadata": {
        "id": "oZ3IxaiKuHsh"
      },
      "execution_count": 17,
      "outputs": []
    },
    {
      "cell_type": "code",
      "source": [
        "movilidad_df.head(10)"
      ],
      "metadata": {
        "colab": {
          "base_uri": "https://localhost:8080/",
          "height": 363
        },
        "id": "JUrT-rVwg3l5",
        "outputId": "7e630348-2b3f-4ad6-cbd4-fbbc1737c645"
      },
      "execution_count": 18,
      "outputs": [
        {
          "output_type": "execute_result",
          "data": {
            "text/plain": [
              "   instant       Date    Season  Holiday        Weather      Temp  Feel_Temp  \\\n",
              "0        1 2020-01-01  Springer        0           Mist  8.175849   9.090375   \n",
              "1        2 2020-02-01  Springer        0           Mist  9.083466   8.625733   \n",
              "2        3 2020-03-01  Springer        0  Other Weather  1.229108   0.902035   \n",
              "3        4 2020-04-01  Springer        0  Other Weather  1.400000   1.969734   \n",
              "4        5 2020-05-01  Springer        0  Other Weather  2.666979   2.775690   \n",
              "5        6 2020-06-01  Springer        0  Other Weather  1.604356   2.960823   \n",
              "6        7 2020-07-01  Springer        0           Mist  1.236534   1.815433   \n",
              "7        8 2020-08-01  Springer        0           Mist -0.245000  -0.374062   \n",
              "8        9 2020-09-01  Springer        0  Other Weather -1.498349  -2.539775   \n",
              "9       10 2020-10-01  Springer        0  Other Weather -0.910849  -0.908264   \n",
              "\n",
              "        Hum       Wind  Casual  Registered   cnt  day_of_week  Weather_num  \\\n",
              "0  0.805833  10.749882     331         654   985            2            0   \n",
              "1  0.696087 -16.652113     131         670   801            5            0   \n",
              "2  0.437273  16.636703     120        1229  1349            6            2   \n",
              "3  0.590435  10.739832     108        1454  1562            2            2   \n",
              "4  0.436957  12.522300      82        1518  1600            4            2   \n",
              "5  0.518261   6.000868      88        1518  1606            0            2   \n",
              "6  0.498696  11.304642     148        1362  1510            2            0   \n",
              "7  0.535833  17.875868      68         891   959            5            0   \n",
              "8  0.434167  24.250650      54         768   822            1            2   \n",
              "9  0.482917  14.958889      41        1280  1321            3            2   \n",
              "\n",
              "   Validate_Temp  \n",
              "0      -0.914526  \n",
              "1       0.457733  \n",
              "2       0.327073  \n",
              "3      -0.569734  \n",
              "4      -0.108711  \n",
              "5      -1.356467  \n",
              "6      -0.578899  \n",
              "7       0.129062  \n",
              "8       1.041426  \n",
              "9      -0.002585  "
            ],
            "text/html": [
              "\n",
              "  <div id=\"df-f540287d-0fad-4c6c-9763-4d8e1b074d23\">\n",
              "    <div class=\"colab-df-container\">\n",
              "      <div>\n",
              "<style scoped>\n",
              "    .dataframe tbody tr th:only-of-type {\n",
              "        vertical-align: middle;\n",
              "    }\n",
              "\n",
              "    .dataframe tbody tr th {\n",
              "        vertical-align: top;\n",
              "    }\n",
              "\n",
              "    .dataframe thead th {\n",
              "        text-align: right;\n",
              "    }\n",
              "</style>\n",
              "<table border=\"1\" class=\"dataframe\">\n",
              "  <thead>\n",
              "    <tr style=\"text-align: right;\">\n",
              "      <th></th>\n",
              "      <th>instant</th>\n",
              "      <th>Date</th>\n",
              "      <th>Season</th>\n",
              "      <th>Holiday</th>\n",
              "      <th>Weather</th>\n",
              "      <th>Temp</th>\n",
              "      <th>Feel_Temp</th>\n",
              "      <th>Hum</th>\n",
              "      <th>Wind</th>\n",
              "      <th>Casual</th>\n",
              "      <th>Registered</th>\n",
              "      <th>cnt</th>\n",
              "      <th>day_of_week</th>\n",
              "      <th>Weather_num</th>\n",
              "      <th>Validate_Temp</th>\n",
              "    </tr>\n",
              "  </thead>\n",
              "  <tbody>\n",
              "    <tr>\n",
              "      <th>0</th>\n",
              "      <td>1</td>\n",
              "      <td>2020-01-01</td>\n",
              "      <td>Springer</td>\n",
              "      <td>0</td>\n",
              "      <td>Mist</td>\n",
              "      <td>8.175849</td>\n",
              "      <td>9.090375</td>\n",
              "      <td>0.805833</td>\n",
              "      <td>10.749882</td>\n",
              "      <td>331</td>\n",
              "      <td>654</td>\n",
              "      <td>985</td>\n",
              "      <td>2</td>\n",
              "      <td>0</td>\n",
              "      <td>-0.914526</td>\n",
              "    </tr>\n",
              "    <tr>\n",
              "      <th>1</th>\n",
              "      <td>2</td>\n",
              "      <td>2020-02-01</td>\n",
              "      <td>Springer</td>\n",
              "      <td>0</td>\n",
              "      <td>Mist</td>\n",
              "      <td>9.083466</td>\n",
              "      <td>8.625733</td>\n",
              "      <td>0.696087</td>\n",
              "      <td>-16.652113</td>\n",
              "      <td>131</td>\n",
              "      <td>670</td>\n",
              "      <td>801</td>\n",
              "      <td>5</td>\n",
              "      <td>0</td>\n",
              "      <td>0.457733</td>\n",
              "    </tr>\n",
              "    <tr>\n",
              "      <th>2</th>\n",
              "      <td>3</td>\n",
              "      <td>2020-03-01</td>\n",
              "      <td>Springer</td>\n",
              "      <td>0</td>\n",
              "      <td>Other Weather</td>\n",
              "      <td>1.229108</td>\n",
              "      <td>0.902035</td>\n",
              "      <td>0.437273</td>\n",
              "      <td>16.636703</td>\n",
              "      <td>120</td>\n",
              "      <td>1229</td>\n",
              "      <td>1349</td>\n",
              "      <td>6</td>\n",
              "      <td>2</td>\n",
              "      <td>0.327073</td>\n",
              "    </tr>\n",
              "    <tr>\n",
              "      <th>3</th>\n",
              "      <td>4</td>\n",
              "      <td>2020-04-01</td>\n",
              "      <td>Springer</td>\n",
              "      <td>0</td>\n",
              "      <td>Other Weather</td>\n",
              "      <td>1.400000</td>\n",
              "      <td>1.969734</td>\n",
              "      <td>0.590435</td>\n",
              "      <td>10.739832</td>\n",
              "      <td>108</td>\n",
              "      <td>1454</td>\n",
              "      <td>1562</td>\n",
              "      <td>2</td>\n",
              "      <td>2</td>\n",
              "      <td>-0.569734</td>\n",
              "    </tr>\n",
              "    <tr>\n",
              "      <th>4</th>\n",
              "      <td>5</td>\n",
              "      <td>2020-05-01</td>\n",
              "      <td>Springer</td>\n",
              "      <td>0</td>\n",
              "      <td>Other Weather</td>\n",
              "      <td>2.666979</td>\n",
              "      <td>2.775690</td>\n",
              "      <td>0.436957</td>\n",
              "      <td>12.522300</td>\n",
              "      <td>82</td>\n",
              "      <td>1518</td>\n",
              "      <td>1600</td>\n",
              "      <td>4</td>\n",
              "      <td>2</td>\n",
              "      <td>-0.108711</td>\n",
              "    </tr>\n",
              "    <tr>\n",
              "      <th>5</th>\n",
              "      <td>6</td>\n",
              "      <td>2020-06-01</td>\n",
              "      <td>Springer</td>\n",
              "      <td>0</td>\n",
              "      <td>Other Weather</td>\n",
              "      <td>1.604356</td>\n",
              "      <td>2.960823</td>\n",
              "      <td>0.518261</td>\n",
              "      <td>6.000868</td>\n",
              "      <td>88</td>\n",
              "      <td>1518</td>\n",
              "      <td>1606</td>\n",
              "      <td>0</td>\n",
              "      <td>2</td>\n",
              "      <td>-1.356467</td>\n",
              "    </tr>\n",
              "    <tr>\n",
              "      <th>6</th>\n",
              "      <td>7</td>\n",
              "      <td>2020-07-01</td>\n",
              "      <td>Springer</td>\n",
              "      <td>0</td>\n",
              "      <td>Mist</td>\n",
              "      <td>1.236534</td>\n",
              "      <td>1.815433</td>\n",
              "      <td>0.498696</td>\n",
              "      <td>11.304642</td>\n",
              "      <td>148</td>\n",
              "      <td>1362</td>\n",
              "      <td>1510</td>\n",
              "      <td>2</td>\n",
              "      <td>0</td>\n",
              "      <td>-0.578899</td>\n",
              "    </tr>\n",
              "    <tr>\n",
              "      <th>7</th>\n",
              "      <td>8</td>\n",
              "      <td>2020-08-01</td>\n",
              "      <td>Springer</td>\n",
              "      <td>0</td>\n",
              "      <td>Mist</td>\n",
              "      <td>-0.245000</td>\n",
              "      <td>-0.374062</td>\n",
              "      <td>0.535833</td>\n",
              "      <td>17.875868</td>\n",
              "      <td>68</td>\n",
              "      <td>891</td>\n",
              "      <td>959</td>\n",
              "      <td>5</td>\n",
              "      <td>0</td>\n",
              "      <td>0.129062</td>\n",
              "    </tr>\n",
              "    <tr>\n",
              "      <th>8</th>\n",
              "      <td>9</td>\n",
              "      <td>2020-09-01</td>\n",
              "      <td>Springer</td>\n",
              "      <td>0</td>\n",
              "      <td>Other Weather</td>\n",
              "      <td>-1.498349</td>\n",
              "      <td>-2.539775</td>\n",
              "      <td>0.434167</td>\n",
              "      <td>24.250650</td>\n",
              "      <td>54</td>\n",
              "      <td>768</td>\n",
              "      <td>822</td>\n",
              "      <td>1</td>\n",
              "      <td>2</td>\n",
              "      <td>1.041426</td>\n",
              "    </tr>\n",
              "    <tr>\n",
              "      <th>9</th>\n",
              "      <td>10</td>\n",
              "      <td>2020-10-01</td>\n",
              "      <td>Springer</td>\n",
              "      <td>0</td>\n",
              "      <td>Other Weather</td>\n",
              "      <td>-0.910849</td>\n",
              "      <td>-0.908264</td>\n",
              "      <td>0.482917</td>\n",
              "      <td>14.958889</td>\n",
              "      <td>41</td>\n",
              "      <td>1280</td>\n",
              "      <td>1321</td>\n",
              "      <td>3</td>\n",
              "      <td>2</td>\n",
              "      <td>-0.002585</td>\n",
              "    </tr>\n",
              "  </tbody>\n",
              "</table>\n",
              "</div>\n",
              "      <button class=\"colab-df-convert\" onclick=\"convertToInteractive('df-f540287d-0fad-4c6c-9763-4d8e1b074d23')\"\n",
              "              title=\"Convert this dataframe to an interactive table.\"\n",
              "              style=\"display:none;\">\n",
              "        \n",
              "  <svg xmlns=\"http://www.w3.org/2000/svg\" height=\"24px\"viewBox=\"0 0 24 24\"\n",
              "       width=\"24px\">\n",
              "    <path d=\"M0 0h24v24H0V0z\" fill=\"none\"/>\n",
              "    <path d=\"M18.56 5.44l.94 2.06.94-2.06 2.06-.94-2.06-.94-.94-2.06-.94 2.06-2.06.94zm-11 1L8.5 8.5l.94-2.06 2.06-.94-2.06-.94L8.5 2.5l-.94 2.06-2.06.94zm10 10l.94 2.06.94-2.06 2.06-.94-2.06-.94-.94-2.06-.94 2.06-2.06.94z\"/><path d=\"M17.41 7.96l-1.37-1.37c-.4-.4-.92-.59-1.43-.59-.52 0-1.04.2-1.43.59L10.3 9.45l-7.72 7.72c-.78.78-.78 2.05 0 2.83L4 21.41c.39.39.9.59 1.41.59.51 0 1.02-.2 1.41-.59l7.78-7.78 2.81-2.81c.8-.78.8-2.07 0-2.86zM5.41 20L4 18.59l7.72-7.72 1.47 1.35L5.41 20z\"/>\n",
              "  </svg>\n",
              "      </button>\n",
              "      \n",
              "  <style>\n",
              "    .colab-df-container {\n",
              "      display:flex;\n",
              "      flex-wrap:wrap;\n",
              "      gap: 12px;\n",
              "    }\n",
              "\n",
              "    .colab-df-convert {\n",
              "      background-color: #E8F0FE;\n",
              "      border: none;\n",
              "      border-radius: 50%;\n",
              "      cursor: pointer;\n",
              "      display: none;\n",
              "      fill: #1967D2;\n",
              "      height: 32px;\n",
              "      padding: 0 0 0 0;\n",
              "      width: 32px;\n",
              "    }\n",
              "\n",
              "    .colab-df-convert:hover {\n",
              "      background-color: #E2EBFA;\n",
              "      box-shadow: 0px 1px 2px rgba(60, 64, 67, 0.3), 0px 1px 3px 1px rgba(60, 64, 67, 0.15);\n",
              "      fill: #174EA6;\n",
              "    }\n",
              "\n",
              "    [theme=dark] .colab-df-convert {\n",
              "      background-color: #3B4455;\n",
              "      fill: #D2E3FC;\n",
              "    }\n",
              "\n",
              "    [theme=dark] .colab-df-convert:hover {\n",
              "      background-color: #434B5C;\n",
              "      box-shadow: 0px 1px 3px 1px rgba(0, 0, 0, 0.15);\n",
              "      filter: drop-shadow(0px 1px 2px rgba(0, 0, 0, 0.3));\n",
              "      fill: #FFFFFF;\n",
              "    }\n",
              "  </style>\n",
              "\n",
              "      <script>\n",
              "        const buttonEl =\n",
              "          document.querySelector('#df-f540287d-0fad-4c6c-9763-4d8e1b074d23 button.colab-df-convert');\n",
              "        buttonEl.style.display =\n",
              "          google.colab.kernel.accessAllowed ? 'block' : 'none';\n",
              "\n",
              "        async function convertToInteractive(key) {\n",
              "          const element = document.querySelector('#df-f540287d-0fad-4c6c-9763-4d8e1b074d23');\n",
              "          const dataTable =\n",
              "            await google.colab.kernel.invokeFunction('convertToInteractive',\n",
              "                                                     [key], {});\n",
              "          if (!dataTable) return;\n",
              "\n",
              "          const docLinkHtml = 'Like what you see? Visit the ' +\n",
              "            '<a target=\"_blank\" href=https://colab.research.google.com/notebooks/data_table.ipynb>data table notebook</a>'\n",
              "            + ' to learn more about interactive tables.';\n",
              "          element.innerHTML = '';\n",
              "          dataTable['output_type'] = 'display_data';\n",
              "          await google.colab.output.renderOutput(dataTable, element);\n",
              "          const docLink = document.createElement('div');\n",
              "          docLink.innerHTML = docLinkHtml;\n",
              "          element.appendChild(docLink);\n",
              "        }\n",
              "      </script>\n",
              "    </div>\n",
              "  </div>\n",
              "  "
            ]
          },
          "metadata": {},
          "execution_count": 18
        }
      ]
    },
    {
      "cell_type": "code",
      "source": [
        "movilidad_df = movilidad_df.drop(['Validate_Temp'], axis=1)"
      ],
      "metadata": {
        "id": "LFyQojRVyO23"
      },
      "execution_count": 19,
      "outputs": []
    },
    {
      "cell_type": "markdown",
      "source": [
        "### Análisis Exploratorio de Datos"
      ],
      "metadata": {
        "id": "JhlBEvb6UHMd"
      }
    },
    {
      "cell_type": "code",
      "source": [
        "top_day_weather_casual = movilidad_df.groupby(['Weather','day_of_week']).agg({'Casual': ['mean']})\n",
        "top_day_weather_casual.reset_index(inplace=True)\n",
        "top_day_weather_casual.columns = ['Weather','day_of_week','mean']\n",
        "top_day_weather_casual['day_of_week'] = top_day_weather_casual['day_of_week'].replace(0,'Lunes').replace(1,'Martes').replace(2,'Miercoles').replace(3,'Jueves').replace(4,'Viernes').replace(5,'Sabado').replace(6,'Domingo')\n",
        "\n",
        "# transform the shape\n",
        "dfp = top_day_weather_casual.pivot(index='Weather', columns='day_of_week', values='mean')\n",
        "\n",
        "# plot\n",
        "ax = dfp.plot(kind='bar', rot=0, figsize=(24, 6))\n",
        "font = {'family':'serif','color':'darkred','size':15}\n",
        "plt.xlabel(\"Weather\", font)\n",
        "plt.ylabel(\"mean\", font)\n",
        "plt.title(\"Promedio de usuarios casuales por dia y por agrupación del clima\", font)\n",
        "ax.legend(bbox_to_anchor=(1.01, 1.02), loc='upper left', fontsize=14)\n",
        "plt.style.use('seaborn')\n",
        "plt.tick_params(labelsize=14)\n",
        "plt.show()"
      ],
      "metadata": {
        "colab": {
          "base_uri": "https://localhost:8080/",
          "height": 414
        },
        "id": "_t1LCRXag2vw",
        "outputId": "315d3a7c-236e-48a6-a2a9-131118e553f8"
      },
      "execution_count": 20,
      "outputs": [
        {
          "output_type": "display_data",
          "data": {
            "text/plain": [
              "<Figure size 1728x432 with 1 Axes>"
            ],
            "image/png": "[encoded data removed]"
          },
          "metadata": {
            "needs_background": "light"
          }
        }
      ]
    },
    {
      "cell_type": "markdown",
      "source": [
        "En los grupos de clima de niebla y otros climas (Pocas nubes, Parcialmente nublado, Claro, Parcialmente nublado y Nieve) se obaserva que los días Jueves, Miercoles son los dias en los cuales se rentan más patinetas. En días con niebla los Domingos y los Lunes son los días que se rentan menos, con un comportamiento casi similar en la otra categoria de clima. En los dias lluviosos casi no se rentan patinetas."
      ],
      "metadata": {
        "id": "tAuyBehNrwk0"
      }
    },
    {
      "cell_type": "code",
      "source": [
        "top_day_weather = movilidad_df.groupby(['Weather','day_of_week']).agg({'cnt': ['mean']})\n",
        "top_day_weather.reset_index(inplace=True)\n",
        "top_day_weather.columns = ['Weather','day_of_week','mean']\n",
        "top_day_weather['day_of_week'] = top_day_weather['day_of_week'].replace(0,'Lunes').replace(1,'Martes').replace(2,'Miercoles').replace(3,'Jueves').replace(4,'Viernes').replace(5,'Sabado').replace(6,'Domingo')\n",
        "\n",
        "# transform the shape\n",
        "dfp = top_day_weather.pivot(index='Weather', columns='day_of_week', values='mean')\n",
        "\n",
        "# plot\n",
        "ax = dfp.plot(kind='bar', rot=0, figsize=(24, 6))\n",
        "font = {'family':'serif','color':'darkred','size':15}\n",
        "plt.xlabel(\"Weather\", font)\n",
        "plt.ylabel(\"mean\", font)\n",
        "plt.title(\"Promedio de usuarios totales por dia y por agrución del clima\", font)\n",
        "ax.legend(bbox_to_anchor=(1.01, 1.02), loc='upper left', fontsize=14)\n",
        "plt.style.use('seaborn')\n",
        "plt.tick_params(labelsize=14)\n",
        "plt.show()"
      ],
      "metadata": {
        "colab": {
          "base_uri": "https://localhost:8080/",
          "height": 414
        },
        "id": "-PVOth_gxmMg",
        "outputId": "30f110db-f937-456d-cd2f-7a47fe7cf69c"
      },
      "execution_count": 21,
      "outputs": [
        {
          "output_type": "display_data",
          "data": {
            "text/plain": [
              "<Figure size 1728x432 with 1 Axes>"
            ],
            "image/png": "[encoded data removed]"
          },
          "metadata": {}
        }
      ]
    },
    {
      "cell_type": "markdown",
      "source": [
        "Un factor determinante para rentar las patinetas es el clima, por ejemplo en días con lluvia se ve que el uso de este medio de trasporte es menor comparado con la agrupación de *otros climas* que corresponde a dias soleados, con poca nubosidad o nieve. Tambien en la gráfica se observa que los dias con niebla disminuye un poco los viajes en este tipo de transporte."
      ],
      "metadata": {
        "id": "xRfine9Oqy6T"
      }
    },
    {
      "cell_type": "code",
      "source": [
        "cnt_date = movilidad_df[(movilidad_df['Date'] > '2021-06-30')]\n",
        "cnt_date['cnt'] = cnt_date['cnt']/1000"
      ],
      "metadata": {
        "colab": {
          "base_uri": "https://localhost:8080/"
        },
        "outputId": "11be7ddc-a576-4927-9a72-77220fc04364",
        "id": "VMDSLP1NDCaP"
      },
      "execution_count": 22,
      "outputs": [
        {
          "output_type": "stream",
          "name": "stderr",
          "text": [
            "/usr/local/lib/python3.7/dist-packages/ipykernel_launcher.py:2: SettingWithCopyWarning:\n",
            "\n",
            "\n",
            "A value is trying to be set on a copy of a slice from a DataFrame.\n",
            "Try using .loc[row_indexer,col_indexer] = value instead\n",
            "\n",
            "See the caveats in the documentation: https://pandas.pydata.org/pandas-docs/stable/user_guide/indexing.html#returning-a-view-versus-a-copy\n",
            "\n"
          ]
        }
      ]
    },
    {
      "cell_type": "code",
      "source": [
        "\n",
        "ax = plt.gca()\n",
        "cnt_date.plot(kind='line', x='Date', y='Feel_Temp', rot=0, figsize=(24, 8), ax=ax)\n",
        "cnt_date.plot(kind='line', x='Date', y='cnt', rot=0, figsize=(24, 8), ax=ax)\n",
        "font = {'family':'serif','color':'darkred','size':15}\n",
        "plt.xlabel(\"Meses\", font)\n",
        "plt.title(\"Comparación entre la temperatura y el número de patinetas rentadas\", font)\n",
        "ax.legend(bbox_to_anchor=(1.01, 1.02), loc='upper left', fontsize=14)\n",
        "plt.style.use('seaborn')\n",
        "plt.tick_params(labelsize=14)\n",
        "plt.show()"
      ],
      "metadata": {
        "colab": {
          "base_uri": "https://localhost:8080/",
          "height": 480
        },
        "outputId": "d10bbbbb-c10f-40df-ecea-545e50b08e1e",
        "id": "oY5qRknADCaP"
      },
      "execution_count": 23,
      "outputs": [
        {
          "output_type": "display_data",
          "data": {
            "text/plain": [
              "<Figure size 1728x576 with 1 Axes>"
            ],
            "image/png": "[encoded data removed]"
          },
          "metadata": {}
        }
      ]
    },
    {
      "cell_type": "markdown",
      "source": [
        "En la anterior gráfica se observa que a menor temperatura menor número de viajes en patineta, por ejemplo en la parte derecha de la gráfica cuando incia el invierno la cantidad de viajes baja como lo hace la temperatura. Si la curva de la temperatura sube  el número de patinetas rentado tambien es mayor."
      ],
      "metadata": {
        "id": "vnOVy9pnqJlb"
      }
    },
    {
      "cell_type": "markdown",
      "source": [
        "## Desarrollo de modelos de Machine Learning "
      ],
      "metadata": {
        "id": "1D4aqNIWWm2j"
      }
    },
    {
      "cell_type": "markdown",
      "source": [
        "### 1. Regresión Lineal"
      ],
      "metadata": {
        "id": "xRWzBjccl1d5"
      }
    },
    {
      "cell_type": "markdown",
      "source": [
        "Variables para entrenar el modelo"
      ],
      "metadata": {
        "id": "ODR_tUQytVY4"
      }
    },
    {
      "cell_type": "code",
      "source": [
        "features = ['Holiday','Weather_num','Feel_Temp','Hum','Wind','Casual','Registered','day_of_week']"
      ],
      "metadata": {
        "id": "emg9txFMtQ71"
      },
      "execution_count": 24,
      "outputs": []
    },
    {
      "cell_type": "code",
      "source": [
        "movilidad_df[features + ['cnt']].corr()"
      ],
      "metadata": {
        "id": "U2c3hS2C1IdK",
        "colab": {
          "base_uri": "https://localhost:8080/",
          "height": 332
        },
        "outputId": "6a641319-7f2b-493f-f2d1-704193c29032"
      },
      "execution_count": 25,
      "outputs": [
        {
          "output_type": "execute_result",
          "data": {
            "text/plain": [
              "              Holiday  Weather_num  Feel_Temp       Hum      Wind    Casual  \\\n",
              "Holiday      1.000000     0.022504  -0.033319 -0.015531  0.008981  0.054412   \n",
              "Weather_num  0.022504     1.000000   0.100891 -0.123170  0.042721  0.187361   \n",
              "Feel_Temp   -0.033319     0.100891   1.000000 -0.021650 -0.170142  0.545606   \n",
              "Hum         -0.015531    -0.123170  -0.021650  1.000000 -0.026704 -0.008780   \n",
              "Wind         0.008981     0.042721  -0.170142 -0.026704  1.000000 -0.155578   \n",
              "Casual       0.054412     0.187361   0.545606 -0.008780 -0.155578  1.000000   \n",
              "Registered  -0.108802     0.167495   0.547278 -0.055868 -0.198361  0.395550   \n",
              "day_of_week  0.012550     0.024498  -0.010147 -0.037918  0.004208 -0.053258   \n",
              "cnt         -0.068356     0.201287   0.634101 -0.048109 -0.214888  0.672878   \n",
              "\n",
              "             Registered  day_of_week       cnt  \n",
              "Holiday       -0.108802     0.012550 -0.068356  \n",
              "Weather_num    0.167495     0.024498  0.201287  \n",
              "Feel_Temp      0.547278    -0.010147  0.634101  \n",
              "Hum           -0.055868    -0.037918 -0.048109  \n",
              "Wind          -0.198361     0.004208 -0.214888  \n",
              "Casual         0.395550    -0.053258  0.672878  \n",
              "Registered     1.000000    -0.005208  0.945579  \n",
              "day_of_week   -0.005208     1.000000 -0.023063  \n",
              "cnt            0.945579    -0.023063  1.000000  "
            ],
            "text/html": [
              "\n",
              "  <div id=\"df-6b37c2e3-5092-41e3-aae7-d9de7533afa8\">\n",
              "    <div class=\"colab-df-container\">\n",
              "      <div>\n",
              "<style scoped>\n",
              "    .dataframe tbody tr th:only-of-type {\n",
              "        vertical-align: middle;\n",
              "    }\n",
              "\n",
              "    .dataframe tbody tr th {\n",
              "        vertical-align: top;\n",
              "    }\n",
              "\n",
              "    .dataframe thead th {\n",
              "        text-align: right;\n",
              "    }\n",
              "</style>\n",
              "<table border=\"1\" class=\"dataframe\">\n",
              "  <thead>\n",
              "    <tr style=\"text-align: right;\">\n",
              "      <th></th>\n",
              "      <th>Holiday</th>\n",
              "      <th>Weather_num</th>\n",
              "      <th>Feel_Temp</th>\n",
              "      <th>Hum</th>\n",
              "      <th>Wind</th>\n",
              "      <th>Casual</th>\n",
              "      <th>Registered</th>\n",
              "      <th>day_of_week</th>\n",
              "      <th>cnt</th>\n",
              "    </tr>\n",
              "  </thead>\n",
              "  <tbody>\n",
              "    <tr>\n",
              "      <th>Holiday</th>\n",
              "      <td>1.000000</td>\n",
              "      <td>0.022504</td>\n",
              "      <td>-0.033319</td>\n",
              "      <td>-0.015531</td>\n",
              "      <td>0.008981</td>\n",
              "      <td>0.054412</td>\n",
              "      <td>-0.108802</td>\n",
              "      <td>0.012550</td>\n",
              "      <td>-0.068356</td>\n",
              "    </tr>\n",
              "    <tr>\n",
              "      <th>Weather_num</th>\n",
              "      <td>0.022504</td>\n",
              "      <td>1.000000</td>\n",
              "      <td>0.100891</td>\n",
              "      <td>-0.123170</td>\n",
              "      <td>0.042721</td>\n",
              "      <td>0.187361</td>\n",
              "      <td>0.167495</td>\n",
              "      <td>0.024498</td>\n",
              "      <td>0.201287</td>\n",
              "    </tr>\n",
              "    <tr>\n",
              "      <th>Feel_Temp</th>\n",
              "      <td>-0.033319</td>\n",
              "      <td>0.100891</td>\n",
              "      <td>1.000000</td>\n",
              "      <td>-0.021650</td>\n",
              "      <td>-0.170142</td>\n",
              "      <td>0.545606</td>\n",
              "      <td>0.547278</td>\n",
              "      <td>-0.010147</td>\n",
              "      <td>0.634101</td>\n",
              "    </tr>\n",
              "    <tr>\n",
              "      <th>Hum</th>\n",
              "      <td>-0.015531</td>\n",
              "      <td>-0.123170</td>\n",
              "      <td>-0.021650</td>\n",
              "      <td>1.000000</td>\n",
              "      <td>-0.026704</td>\n",
              "      <td>-0.008780</td>\n",
              "      <td>-0.055868</td>\n",
              "      <td>-0.037918</td>\n",
              "      <td>-0.048109</td>\n",
              "    </tr>\n",
              "    <tr>\n",
              "      <th>Wind</th>\n",
              "      <td>0.008981</td>\n",
              "      <td>0.042721</td>\n",
              "      <td>-0.170142</td>\n",
              "      <td>-0.026704</td>\n",
              "      <td>1.000000</td>\n",
              "      <td>-0.155578</td>\n",
              "      <td>-0.198361</td>\n",
              "      <td>0.004208</td>\n",
              "      <td>-0.214888</td>\n",
              "    </tr>\n",
              "    <tr>\n",
              "      <th>Casual</th>\n",
              "      <td>0.054412</td>\n",
              "      <td>0.187361</td>\n",
              "      <td>0.545606</td>\n",
              "      <td>-0.008780</td>\n",
              "      <td>-0.155578</td>\n",
              "      <td>1.000000</td>\n",
              "      <td>0.395550</td>\n",
              "      <td>-0.053258</td>\n",
              "      <td>0.672878</td>\n",
              "    </tr>\n",
              "    <tr>\n",
              "      <th>Registered</th>\n",
              "      <td>-0.108802</td>\n",
              "      <td>0.167495</td>\n",
              "      <td>0.547278</td>\n",
              "      <td>-0.055868</td>\n",
              "      <td>-0.198361</td>\n",
              "      <td>0.395550</td>\n",
              "      <td>1.000000</td>\n",
              "      <td>-0.005208</td>\n",
              "      <td>0.945579</td>\n",
              "    </tr>\n",
              "    <tr>\n",
              "      <th>day_of_week</th>\n",
              "      <td>0.012550</td>\n",
              "      <td>0.024498</td>\n",
              "      <td>-0.010147</td>\n",
              "      <td>-0.037918</td>\n",
              "      <td>0.004208</td>\n",
              "      <td>-0.053258</td>\n",
              "      <td>-0.005208</td>\n",
              "      <td>1.000000</td>\n",
              "      <td>-0.023063</td>\n",
              "    </tr>\n",
              "    <tr>\n",
              "      <th>cnt</th>\n",
              "      <td>-0.068356</td>\n",
              "      <td>0.201287</td>\n",
              "      <td>0.634101</td>\n",
              "      <td>-0.048109</td>\n",
              "      <td>-0.214888</td>\n",
              "      <td>0.672878</td>\n",
              "      <td>0.945579</td>\n",
              "      <td>-0.023063</td>\n",
              "      <td>1.000000</td>\n",
              "    </tr>\n",
              "  </tbody>\n",
              "</table>\n",
              "</div>\n",
              "      <button class=\"colab-df-convert\" onclick=\"convertToInteractive('df-6b37c2e3-5092-41e3-aae7-d9de7533afa8')\"\n",
              "              title=\"Convert this dataframe to an interactive table.\"\n",
              "              style=\"display:none;\">\n",
              "        \n",
              "  <svg xmlns=\"http://www.w3.org/2000/svg\" height=\"24px\"viewBox=\"0 0 24 24\"\n",
              "       width=\"24px\">\n",
              "    <path d=\"M0 0h24v24H0V0z\" fill=\"none\"/>\n",
              "    <path d=\"M18.56 5.44l.94 2.06.94-2.06 2.06-.94-2.06-.94-.94-2.06-.94 2.06-2.06.94zm-11 1L8.5 8.5l.94-2.06 2.06-.94-2.06-.94L8.5 2.5l-.94 2.06-2.06.94zm10 10l.94 2.06.94-2.06 2.06-.94-2.06-.94-.94-2.06-.94 2.06-2.06.94z\"/><path d=\"M17.41 7.96l-1.37-1.37c-.4-.4-.92-.59-1.43-.59-.52 0-1.04.2-1.43.59L10.3 9.45l-7.72 7.72c-.78.78-.78 2.05 0 2.83L4 21.41c.39.39.9.59 1.41.59.51 0 1.02-.2 1.41-.59l7.78-7.78 2.81-2.81c.8-.78.8-2.07 0-2.86zM5.41 20L4 18.59l7.72-7.72 1.47 1.35L5.41 20z\"/>\n",
              "  </svg>\n",
              "      </button>\n",
              "      \n",
              "  <style>\n",
              "    .colab-df-container {\n",
              "      display:flex;\n",
              "      flex-wrap:wrap;\n",
              "      gap: 12px;\n",
              "    }\n",
              "\n",
              "    .colab-df-convert {\n",
              "      background-color: #E8F0FE;\n",
              "      border: none;\n",
              "      border-radius: 50%;\n",
              "      cursor: pointer;\n",
              "      display: none;\n",
              "      fill: #1967D2;\n",
              "      height: 32px;\n",
              "      padding: 0 0 0 0;\n",
              "      width: 32px;\n",
              "    }\n",
              "\n",
              "    .colab-df-convert:hover {\n",
              "      background-color: #E2EBFA;\n",
              "      box-shadow: 0px 1px 2px rgba(60, 64, 67, 0.3), 0px 1px 3px 1px rgba(60, 64, 67, 0.15);\n",
              "      fill: #174EA6;\n",
              "    }\n",
              "\n",
              "    [theme=dark] .colab-df-convert {\n",
              "      background-color: #3B4455;\n",
              "      fill: #D2E3FC;\n",
              "    }\n",
              "\n",
              "    [theme=dark] .colab-df-convert:hover {\n",
              "      background-color: #434B5C;\n",
              "      box-shadow: 0px 1px 3px 1px rgba(0, 0, 0, 0.15);\n",
              "      filter: drop-shadow(0px 1px 2px rgba(0, 0, 0, 0.3));\n",
              "      fill: #FFFFFF;\n",
              "    }\n",
              "  </style>\n",
              "\n",
              "      <script>\n",
              "        const buttonEl =\n",
              "          document.querySelector('#df-6b37c2e3-5092-41e3-aae7-d9de7533afa8 button.colab-df-convert');\n",
              "        buttonEl.style.display =\n",
              "          google.colab.kernel.accessAllowed ? 'block' : 'none';\n",
              "\n",
              "        async function convertToInteractive(key) {\n",
              "          const element = document.querySelector('#df-6b37c2e3-5092-41e3-aae7-d9de7533afa8');\n",
              "          const dataTable =\n",
              "            await google.colab.kernel.invokeFunction('convertToInteractive',\n",
              "                                                     [key], {});\n",
              "          if (!dataTable) return;\n",
              "\n",
              "          const docLinkHtml = 'Like what you see? Visit the ' +\n",
              "            '<a target=\"_blank\" href=https://colab.research.google.com/notebooks/data_table.ipynb>data table notebook</a>'\n",
              "            + ' to learn more about interactive tables.';\n",
              "          element.innerHTML = '';\n",
              "          dataTable['output_type'] = 'display_data';\n",
              "          await google.colab.output.renderOutput(dataTable, element);\n",
              "          const docLink = document.createElement('div');\n",
              "          docLink.innerHTML = docLinkHtml;\n",
              "          element.appendChild(docLink);\n",
              "        }\n",
              "      </script>\n",
              "    </div>\n",
              "  </div>\n",
              "  "
            ]
          },
          "metadata": {},
          "execution_count": 25
        }
      ]
    },
    {
      "cell_type": "markdown",
      "source": [
        "Creación de Datasets de entrenamiento y pruebas"
      ],
      "metadata": {
        "id": "wcvesDUGtkIp"
      }
    },
    {
      "cell_type": "code",
      "source": [
        "scaler = StandardScaler()"
      ],
      "metadata": {
        "id": "cEV2TWCiahzp"
      },
      "execution_count": 26,
      "outputs": []
    },
    {
      "cell_type": "code",
      "source": [
        "X = movilidad_df[features]"
      ],
      "metadata": {
        "id": "cr5AsmhTtjnm"
      },
      "execution_count": 27,
      "outputs": []
    },
    {
      "cell_type": "code",
      "source": [
        "Y = movilidad_df['cnt']"
      ],
      "metadata": {
        "id": "OrpP5yj-W4oS"
      },
      "execution_count": 28,
      "outputs": []
    },
    {
      "cell_type": "code",
      "source": [
        "X_train, X_test, Y_train, Y_test = train_test_split(X, Y, test_size = 0.2, random_state = 1)"
      ],
      "metadata": {
        "id": "qXAAxp-VuElB"
      },
      "execution_count": 29,
      "outputs": []
    },
    {
      "cell_type": "code",
      "source": [
        "X_train.shape"
      ],
      "metadata": {
        "id": "BwBTFPhquFrV",
        "colab": {
          "base_uri": "https://localhost:8080/"
        },
        "outputId": "f9d76452-a8ec-469c-ceae-af5d79de24e1"
      },
      "execution_count": 30,
      "outputs": [
        {
          "output_type": "execute_result",
          "data": {
            "text/plain": [
              "(584, 8)"
            ]
          },
          "metadata": {},
          "execution_count": 30
        }
      ]
    },
    {
      "cell_type": "code",
      "source": [
        "X_test.shape"
      ],
      "metadata": {
        "id": "G_a9AOo7uItE",
        "colab": {
          "base_uri": "https://localhost:8080/"
        },
        "outputId": "26943a89-a672-46b7-c244-72edd2b509cb"
      },
      "execution_count": 31,
      "outputs": [
        {
          "output_type": "execute_result",
          "data": {
            "text/plain": [
              "(146, 8)"
            ]
          },
          "metadata": {},
          "execution_count": 31
        }
      ]
    },
    {
      "cell_type": "code",
      "source": [
        "X_train_sc = scaler.fit_transform(X_train)\n",
        "X_test_sc = scaler.transform(X_test)"
      ],
      "metadata": {
        "id": "z8Liu_PafT_D"
      },
      "execution_count": 32,
      "outputs": []
    },
    {
      "cell_type": "markdown",
      "source": [
        "Entrenamiento del modelo"
      ],
      "metadata": {
        "id": "pyDFelU4FnWc"
      }
    },
    {
      "cell_type": "code",
      "source": [
        "regr = LinearRegression()"
      ],
      "metadata": {
        "id": "BcuDQbJbF6mM"
      },
      "execution_count": 33,
      "outputs": []
    },
    {
      "cell_type": "code",
      "source": [
        "regr.fit(X_train_sc, Y_train)"
      ],
      "metadata": {
        "id": "tSNG3rqXF_Xm",
        "colab": {
          "base_uri": "https://localhost:8080/"
        },
        "outputId": "a679823e-1354-446c-b143-4ed669191b0c"
      },
      "execution_count": 34,
      "outputs": [
        {
          "output_type": "execute_result",
          "data": {
            "text/plain": [
              "LinearRegression()"
            ]
          },
          "metadata": {},
          "execution_count": 34
        }
      ]
    },
    {
      "cell_type": "code",
      "source": [
        "regr.coef_"
      ],
      "metadata": {
        "id": "Dtg7VjaHGF2D",
        "colab": {
          "base_uri": "https://localhost:8080/"
        },
        "outputId": "dce08a29-a20b-443d-c89c-48348e459d55"
      },
      "execution_count": 35,
      "outputs": [
        {
          "output_type": "execute_result",
          "data": {
            "text/plain": [
              "array([-4.09719914e-13,  5.68434189e-13, -1.70530257e-13,  1.98951966e-13,\n",
              "        1.59872116e-13,  6.85558851e+02,  1.53566907e+03, -1.06581410e-13])"
            ]
          },
          "metadata": {},
          "execution_count": 35
        }
      ]
    },
    {
      "cell_type": "code",
      "source": [
        "regr.intercept_"
      ],
      "metadata": {
        "id": "5RpQXg3tGN32",
        "colab": {
          "base_uri": "https://localhost:8080/"
        },
        "outputId": "43bc9ec8-e1bf-4d6f-e2f1-872f9169ff62"
      },
      "execution_count": 36,
      "outputs": [
        {
          "output_type": "execute_result",
          "data": {
            "text/plain": [
              "4543.440068493151"
            ]
          },
          "metadata": {},
          "execution_count": 36
        }
      ]
    },
    {
      "cell_type": "markdown",
      "source": [
        "Evaluando el modelo"
      ],
      "metadata": {
        "id": "sGaBM76eGP-u"
      }
    },
    {
      "cell_type": "code",
      "source": [
        "preds_train = regr.predict(X_train_sc)\n",
        "preds_test = regr.predict(X_test_sc)"
      ],
      "metadata": {
        "id": "luuYc1QHGTCv"
      },
      "execution_count": 37,
      "outputs": []
    },
    {
      "cell_type": "code",
      "source": [
        "mean_absolute_error(Y_train, preds_train), mean_absolute_error(Y_test, preds_test)"
      ],
      "metadata": {
        "id": "liEZCP9xGok5",
        "colab": {
          "base_uri": "https://localhost:8080/"
        },
        "outputId": "5aed7807-dc46-407e-bd08-083acee3a5e2"
      },
      "execution_count": 38,
      "outputs": [
        {
          "output_type": "execute_result",
          "data": {
            "text/plain": [
              "(7.031453045384882e-13, 7.350710603370242e-13)"
            ]
          },
          "metadata": {},
          "execution_count": 38
        }
      ]
    },
    {
      "cell_type": "code",
      "source": [
        "np.sqrt(mean_squared_error(Y_train, preds_train)), np.sqrt(mean_squared_error(Y_test, preds_test))"
      ],
      "metadata": {
        "id": "bpNH1OoUGq3m",
        "colab": {
          "base_uri": "https://localhost:8080/"
        },
        "outputId": "3d0eda1e-c15b-4b74-eedc-35331b5b06c1"
      },
      "execution_count": 39,
      "outputs": [
        {
          "output_type": "execute_result",
          "data": {
            "text/plain": [
              "(9.944872557803373e-13, 1.016845989170083e-12)"
            ]
          },
          "metadata": {},
          "execution_count": 39
        }
      ]
    },
    {
      "cell_type": "markdown",
      "source": [
        "Los resultados de la regresión son muy buenos ya que el error de entrenamiento y pruebas son bajos. Se podria predicir facilmente el número de usuarios en la ciudad"
      ],
      "metadata": {
        "id": "JKGc2-EfWU70"
      }
    },
    {
      "cell_type": "markdown",
      "source": [
        "### 2. Regresión Polinomial"
      ],
      "metadata": {
        "id": "fgHJFUTrISzr"
      }
    },
    {
      "cell_type": "code",
      "source": [
        "poly_features = PolynomialFeatures(degree=4, include_bias=False)\n",
        "X_poly = poly_features.fit_transform(X)\n",
        "\n",
        "poly_reg = LinearRegression()\n",
        "\n",
        "X_train_poly, X_test_poly, Y_train_poly, Y_test_poly = train_test_split(X_poly, Y, test_size = 0.2, random_state = 1)\n",
        "\n",
        "poly_reg.fit(X_train_poly, Y_train_poly)"
      ],
      "metadata": {
        "id": "d4VfDICvISPt",
        "colab": {
          "base_uri": "https://localhost:8080/"
        },
        "outputId": "e6ebb0cf-dfe4-4963-e923-d35cdbe44f83"
      },
      "execution_count": 40,
      "outputs": [
        {
          "output_type": "execute_result",
          "data": {
            "text/plain": [
              "LinearRegression()"
            ]
          },
          "metadata": {},
          "execution_count": 40
        }
      ]
    },
    {
      "cell_type": "code",
      "source": [
        "poly_reg.coef_"
      ],
      "metadata": {
        "id": "lasCbuzHIohW",
        "colab": {
          "base_uri": "https://localhost:8080/"
        },
        "outputId": "dbe09b0d-84c7-4c17-9c74-d876dc7ed3ba"
      },
      "execution_count": 41,
      "outputs": [
        {
          "output_type": "execute_result",
          "data": {
            "text/plain": [
              "array([ 8.06685417e+00,  1.11850668e-02,  8.23267044e-03, -2.42926009e-04,\n",
              "       -7.51211894e-03,  1.03984765e+00,  1.09116532e+00,  1.39227047e-03,\n",
              "        6.58304045e-04, -2.86815938e-04, -4.38626673e-05, -9.25109230e-05,\n",
              "       -2.42389178e-05,  5.98952813e-05,  2.52225722e-05, -1.61842167e-05,\n",
              "       -9.89856195e-04,  1.79387375e-03, -7.19917548e-05,  1.37282718e-03,\n",
              "        2.28918844e-03,  2.34508806e-02,  1.34198232e-03, -1.27683725e-02,\n",
              "       -2.25450999e-03,  1.83307405e-02, -4.60657739e-04,  1.17509626e-03,\n",
              "       -9.92260585e-03, -1.02258937e-03, -9.43203536e-03,  3.01670353e-02,\n",
              "       -3.52599689e-03,  9.08186757e-04, -1.89495552e-02,  5.41687675e-03,\n",
              "       -3.62733097e-03,  7.75589466e-03, -1.06815542e-03,  4.90345538e-04,\n",
              "        2.18932296e-03, -6.97092762e-05, -6.09174818e-03, -1.37863067e-02,\n",
              "        3.57720284e-09,  3.44044690e-09, -5.19345921e-09,  1.22031044e-09,\n",
              "       -4.01618365e-09, -1.44321172e-07,  9.28888662e-08, -1.33354726e-09,\n",
              "        1.27357124e-09, -1.33980667e-08,  2.08998814e-09,  2.45497587e-08,\n",
              "       -1.46433701e-07,  1.32694289e-06,  5.56685757e-09, -7.19364058e-08,\n",
              "       -5.44068014e-09, -1.28128837e-07, -2.44632639e-06, -6.58336371e-06,\n",
              "       -6.13647306e-09, -4.73153017e-10, -7.24614494e-09, -1.04876230e-07,\n",
              "       -1.56996095e-07, -3.44020479e-10, -3.05404055e-08, -3.25605849e-06,\n",
              "        9.28888034e-07, -2.15328327e-08,  3.83213476e-05, -9.82740368e-06,\n",
              "        2.50320375e-07,  1.05254931e-04, -4.13825376e-07,  1.23583182e-08,\n",
              "       -2.16623282e-03,  2.83061544e-03, -2.84543130e-04, -6.31963252e-04,\n",
              "       -1.85135723e-03,  1.10104758e-02,  1.50254394e-03,  5.41905328e-03,\n",
              "        2.55401983e-03,  1.01966932e-02,  1.76429465e-03, -1.32634023e-03,\n",
              "       -5.22240037e-03, -5.70151035e-04,  4.99501399e-03, -4.66791249e-03,\n",
              "        8.68839042e-03,  2.45106102e-03,  3.07126656e-02,  2.61060715e-02,\n",
              "       -1.12707198e-02,  2.01682005e-02, -9.78648065e-04,  1.15254340e-03,\n",
              "        8.74312650e-03, -6.30828778e-05, -3.20252018e-03,  2.44677181e-03,\n",
              "        1.68387247e-03,  1.45101736e-03,  2.48243741e-03, -1.47142409e-03,\n",
              "        6.45637105e-04,  2.08558826e-02, -2.91942607e-03,  1.73352792e-02,\n",
              "        6.70231563e-03, -3.16697815e-03,  3.02378585e-03, -3.01269158e-03,\n",
              "        1.11581509e-03, -8.30489909e-04, -8.19723847e-03,  2.69821570e-05,\n",
              "       -8.33215596e-06, -9.16209117e-04, -3.07430407e-06,  3.62091218e-03,\n",
              "       -1.98204284e-02, -6.84798174e-04, -1.34000058e-02,  2.54600574e-02,\n",
              "       -4.17661599e-02,  1.06077154e-03, -5.96716450e-04,  1.33116563e-03,\n",
              "       -1.73097257e-03, -6.05321010e-04,  1.62649729e-03, -9.24850180e-04,\n",
              "       -2.23209133e-02,  6.79709674e-05,  1.01156634e-02, -2.96883614e-03,\n",
              "        9.99691277e-03,  5.94152869e-04, -7.16943348e-04,  2.14519398e-02,\n",
              "        3.31795831e-05, -2.41467389e-05,  2.68291804e-03,  6.76620738e-06,\n",
              "        1.29359337e-03,  7.85611343e-04,  1.46513613e-07, -1.19557767e-07,\n",
              "        1.03046412e-04,  7.00290073e-08, -8.75000004e-05,  6.36047173e-03,\n",
              "        2.17642416e-09, -1.18871874e-06, -1.51322699e-03, -6.12487509e-03,\n",
              "       -4.23391134e-10,  7.65279249e-10, -9.27454792e-09, -4.21233600e-10,\n",
              "       -5.58002637e-09, -1.41110034e-07,  9.07613976e-08, -6.08413549e-10,\n",
              "        1.53048291e-09, -1.25535810e-08,  8.41618767e-11,  2.42026286e-08,\n",
              "       -1.47118974e-07,  1.32855961e-06,  5.07019418e-09, -7.24929242e-08,\n",
              "       -5.56069165e-09, -1.26821034e-07, -2.44691355e-06, -6.58137447e-06,\n",
              "       -5.65209114e-09, -3.07256771e-10, -7.18622450e-09, -1.04740836e-07,\n",
              "       -1.56885481e-07, -5.50077871e-10, -3.04524644e-08, -3.25629215e-06,\n",
              "        9.28905045e-07, -2.15083494e-08,  3.83213747e-05, -9.82743140e-06,\n",
              "        2.50281421e-07,  1.05254920e-04, -4.13796223e-07,  1.23818095e-08,\n",
              "        3.06104468e-09, -2.51071265e-08,  1.68344157e-10,  4.84052837e-08,\n",
              "       -2.94237816e-07,  2.65711924e-06,  1.01403947e-08, -1.64958118e-07,\n",
              "       -8.26845019e-09, -1.04278375e-07, -6.68211393e-06, -1.28697413e-05,\n",
              "        8.88648968e-09, -9.10096854e-11,  6.37245120e-09, -1.74298867e-07,\n",
              "        2.84202199e-07,  2.48099634e-09,  6.97721291e-07, -2.51294703e-06,\n",
              "        2.93701746e-05,  9.66761597e-08,  1.12518021e-05, -1.81381714e-04,\n",
              "        7.61163281e-07,  6.73521630e-05,  3.92040450e-06,  4.86935139e-08,\n",
              "        2.81258144e-08, -3.71071533e-08, -7.04343011e-07,  6.53442408e-07,\n",
              "        1.12383247e-05,  1.28334098e-07, -3.19051103e-09, -7.86539146e-08,\n",
              "       -1.34059077e-06, -4.04797668e-06, -3.24997114e-09, -1.66688301e-06,\n",
              "       -2.38547284e-05, -6.46819065e-05, -5.24551758e-08, -3.60613874e-05,\n",
              "        3.75897572e-05,  6.22313610e-06,  6.11083829e-07, -2.63773701e-06,\n",
              "        8.68002311e-08, -1.99474263e-10, -5.58295629e-09, -6.71509673e-08,\n",
              "       -1.67674793e-07, -4.22714994e-10, -1.07602222e-07, -2.21916377e-06,\n",
              "       -3.32206702e-06, -1.45095637e-08,  5.81262891e-06, -5.96477842e-05,\n",
              "        9.51809584e-08, -7.37453522e-05, -3.13997303e-07,  5.48281351e-09,\n",
              "        4.51427864e-07, -3.30165111e-05,  3.64879985e-05, -7.86336829e-07,\n",
              "       -2.12944815e-04,  1.48173475e-04,  1.15579738e-05, -2.99655986e-05,\n",
              "       -1.17683941e-05,  1.42579483e-07, -4.72483043e-07,  1.26709128e-06,\n",
              "        1.37649908e-04, -8.29129169e-07, -8.26948006e-05,  7.88919005e-06,\n",
              "        9.75586844e-08, -3.86978105e-06,  1.97676819e-05,  9.24138501e-08,\n",
              "       -4.53347548e-03,  4.92842815e-03, -7.28210744e-04, -4.62622186e-03,\n",
              "       -1.01501380e-02, -1.38581085e-02,  1.83273393e-03,  7.50372006e-04,\n",
              "        4.67197102e-03,  1.34003957e-02, -1.45749727e-04,  1.64840528e-03,\n",
              "       -1.18981977e-02, -1.29657597e-03,  7.20554250e-03, -1.44319449e-02,\n",
              "       -1.09632671e-03,  3.98043475e-03,  6.33941240e-03, -1.57323018e-02,\n",
              "        7.47480687e-03,  1.71792856e-02,  5.43178393e-04, -6.01895138e-04,\n",
              "       -9.29971232e-03,  3.08693959e-05, -7.88000285e-04, -1.76896633e-03,\n",
              "        3.56817252e-03,  1.36052484e-02,  1.02097030e-03,  4.79449572e-04,\n",
              "       -1.99562886e-04,  3.91062804e-03,  1.26905304e-03, -3.09986475e-02,\n",
              "        1.92768986e-04, -8.73703887e-04, -6.00120201e-03,  7.32894086e-03,\n",
              "       -9.06306450e-04,  3.00355081e-05,  2.64040121e-03, -4.96509622e-06,\n",
              "        2.10130531e-06, -1.18790216e-03,  3.93575732e-07,  1.02350157e-04,\n",
              "        1.89489401e-03,  1.22515418e-04, -1.11083350e-02,  4.49517355e-03,\n",
              "        7.52388871e-04, -1.15478712e-03,  2.95301488e-02,  1.14163222e-03,\n",
              "        4.88435828e-04,  1.11762079e-02, -1.11066030e-04,  9.38790895e-05,\n",
              "        8.04105017e-03, -9.92548010e-06,  1.24577022e-03,  7.18974094e-04,\n",
              "       -7.25010691e-03,  5.23469959e-04, -7.58209787e-05, -1.09900511e-02,\n",
              "        5.69024592e-07,  1.23568920e-06, -1.99067141e-04, -5.37629366e-07,\n",
              "        7.23211690e-05, -3.72160565e-03, -9.46914175e-09,  1.29744986e-08,\n",
              "        7.32134243e-06, -1.05849523e-08,  1.16094942e-06,  1.50591809e-03,\n",
              "        1.17813916e-09,  2.81790640e-07,  2.13264148e-04, -3.65398577e-03,\n",
              "        1.06829141e-03, -3.05936550e-04,  5.00230736e-04, -6.06600711e-05,\n",
              "       -1.61974464e-05, -1.71134660e-03, -9.30883479e-03, -4.37001834e-04,\n",
              "       -9.50043419e-04, -2.30441675e-04,  1.46594364e-03, -3.02476175e-03,\n",
              "        8.57626760e-05,  5.58308854e-07,  2.20813092e-03,  4.64708180e-07,\n",
              "        5.32352668e-07,  2.91625435e-04,  7.48140656e-08, -8.17965887e-05,\n",
              "       -9.51439466e-04, -2.93411858e-03,  2.48930973e-02, -2.67154032e-03,\n",
              "       -7.34897825e-04, -1.74314005e-03,  1.00417586e-03,  5.10224058e-04,\n",
              "        6.75372894e-04,  1.84683009e-03, -1.15614978e-05,  1.64476874e-05,\n",
              "       -2.58152563e-03, -4.87413656e-07, -1.30404029e-04, -1.41645290e-02,\n",
              "       -5.47872221e-04,  7.59487998e-05,  8.25846169e-06,  7.03029619e-03,\n",
              "       -7.99164574e-07, -8.10811773e-07,  1.34214032e-05,  1.34399106e-07,\n",
              "       -1.23209067e-04,  3.21279057e-03,  9.81086865e-10, -3.54669030e-09,\n",
              "       -4.41092561e-06, -1.57449653e-09,  2.21140172e-06, -8.99882754e-04,\n",
              "        2.33795205e-11, -1.95280685e-07,  2.59220900e-05,  4.29888740e-03,\n",
              "        5.33450404e-03,  7.22424664e-03,  3.07122161e-03, -6.86210808e-04,\n",
              "        2.79491658e-03,  3.11042311e-02, -2.05800730e-04, -2.43264953e-03,\n",
              "       -2.18423592e-03, -8.87758859e-04,  5.00341881e-04,  9.24578243e-03,\n",
              "       -5.78063850e-06, -2.13994617e-03,  1.34211628e-03, -4.76231890e-03,\n",
              "       -4.97230920e-04,  7.61320125e-04, -8.05809109e-04, -7.81994796e-06,\n",
              "       -1.65983000e-06, -1.53229857e-04, -3.01190772e-06, -2.22663979e-03,\n",
              "       -1.41693189e-02, -6.42554352e-08,  1.09525678e-08, -6.32653830e-06,\n",
              "       -1.51379005e-08,  2.39410232e-05,  2.61350378e-03, -5.57741804e-10,\n",
              "        1.32536334e-06,  5.99550146e-05, -9.39593112e-03,  4.17894874e-04,\n",
              "       -3.03882899e-05,  6.42053722e-06, -2.18732260e-04, -5.07187727e-07,\n",
              "        3.45622313e-07, -3.79137542e-04, -5.00888915e-08,  4.81804597e-05,\n",
              "       -1.23317384e-02, -1.11984471e-09,  2.73516854e-09, -3.58851903e-06,\n",
              "        1.31187742e-09,  3.58333131e-06,  2.75730061e-04, -3.95928290e-10,\n",
              "       -3.02037259e-07,  4.97694888e-05,  5.27990415e-03,  1.67052483e-12,\n",
              "       -1.75729431e-11, -1.06144654e-08,  1.67186820e-11,  1.55633067e-08,\n",
              "       -3.04382314e-06, -4.28285879e-12, -5.90238380e-09,  2.63664334e-06,\n",
              "        1.71770200e-05,  1.15987515e-13,  1.10580928e-09, -3.07400339e-07,\n",
              "        7.63584301e-05, -8.44966111e-03])"
            ]
          },
          "metadata": {},
          "execution_count": 41
        }
      ]
    },
    {
      "cell_type": "code",
      "source": [
        "poly_reg.intercept_"
      ],
      "metadata": {
        "id": "NIgtOiw1ItYp",
        "colab": {
          "base_uri": "https://localhost:8080/"
        },
        "outputId": "7b6b80a7-6d25-4056-9f07-af1cb63da9c8"
      },
      "execution_count": 42,
      "outputs": [
        {
          "output_type": "execute_result",
          "data": {
            "text/plain": [
              "-18.070422560540464"
            ]
          },
          "metadata": {},
          "execution_count": 42
        }
      ]
    },
    {
      "cell_type": "code",
      "source": [
        "preds_train_poly = poly_reg.predict(X_train_poly)\n",
        "preds_test_poly = poly_reg.predict(X_test_poly)"
      ],
      "metadata": {
        "id": "ODfEXzRMIwXJ"
      },
      "execution_count": 43,
      "outputs": []
    },
    {
      "cell_type": "code",
      "source": [
        "np.sqrt(mean_squared_error(Y_train_poly, preds_train_poly)), np.sqrt(mean_squared_error(Y_test_poly, preds_test_poly))"
      ],
      "metadata": {
        "id": "GQL-alNTI4VF",
        "colab": {
          "base_uri": "https://localhost:8080/"
        },
        "outputId": "846af31f-dfee-4334-c88b-4344464721a9"
      },
      "execution_count": 44,
      "outputs": [
        {
          "output_type": "execute_result",
          "data": {
            "text/plain": [
              "(29.986970721024655, 1187.7082766281271)"
            ]
          },
          "metadata": {},
          "execution_count": 44
        }
      ]
    },
    {
      "cell_type": "markdown",
      "source": [
        "Realicé varias pruebas con la regresión polinomial y presentaba mayor error comaparada con la regresión lineal. Como se puede observar el error es bastante mayor."
      ],
      "metadata": {
        "id": "jtj_9vaYTjHs"
      }
    },
    {
      "cell_type": "markdown",
      "source": [
        "Alfa = 0.1"
      ],
      "metadata": {
        "id": "EqVHkYb_TL9m"
      }
    },
    {
      "cell_type": "code",
      "source": [
        "X_train_ridge, X_test_ridge, Y_train_ridge, Y_test_ridge = train_test_split(X_poly, Y, test_size = 0.2, random_state = 1)\n",
        "\n",
        "reg_ridge = SGDRegressor(alpha=0.1, penalty=\"L2\", tol = None, max_iter= 100)\n",
        "\n",
        "reg_ridge.fit(X_train_ridge, Y_train_ridge)\n"
      ],
      "metadata": {
        "id": "YPaiQqtjZb-E",
        "colab": {
          "base_uri": "https://localhost:8080/"
        },
        "outputId": "9a05a286-72b7-4b80-f147-69f6b644187a"
      },
      "execution_count": 45,
      "outputs": [
        {
          "output_type": "execute_result",
          "data": {
            "text/plain": [
              "SGDRegressor(alpha=0.1, max_iter=100, penalty='L2', tol=None)"
            ]
          },
          "metadata": {},
          "execution_count": 45
        }
      ]
    },
    {
      "cell_type": "code",
      "source": [
        "reg_ridge.coef_"
      ],
      "metadata": {
        "id": "1tJ-EgeCZb-G",
        "colab": {
          "base_uri": "https://localhost:8080/"
        },
        "outputId": "12fced3a-81f0-4853-d53d-2f1f2bb78b77"
      },
      "execution_count": 46,
      "outputs": [
        {
          "output_type": "execute_result",
          "data": {
            "text/plain": [
              "array([-1.52217710e+10,  1.40290849e+10,  2.85820066e+11,  1.46963024e+11,\n",
              "        1.58794374e+12,  1.47340969e+13,  1.81900630e+14,  8.24157528e+10,\n",
              "       -1.52217710e+10, -1.58149000e+10, -2.18655567e+11, -9.65739292e+09,\n",
              "       -2.31079029e+11, -1.63017506e+13, -4.21266634e+13, -6.25344309e+10,\n",
              "        3.03082782e+10, -1.09022849e+12,  1.40444581e+11,  1.33496831e+12,\n",
              "       -7.41856457e+13, -1.08038493e+14, -2.07315130e+11, -4.63459535e+12,\n",
              "        5.61054810e+11,  9.60509264e+12, -2.74676909e+14,  1.59200780e+14,\n",
              "       -9.91149810e+11,  1.11351660e+12,  2.90868588e+12,  3.38880896e+13,\n",
              "        3.03411365e+14,  1.91183408e+11,  2.97488720e+13,  5.86652556e+14,\n",
              "        3.02118091e+15,  2.03193544e+12,  2.47784856e+15,  2.99837102e+16,\n",
              "        3.31358921e+13,  4.44406931e+17, -9.53031979e+13, -7.13834592e+10,\n",
              "       -1.52217710e+10, -1.58149000e+10, -2.18655567e+11, -9.65739292e+09,\n",
              "       -2.31079029e+11, -1.63017506e+13, -4.21266634e+13, -6.25344309e+10,\n",
              "       -3.16297999e+10, -3.60763898e+11, -9.29149189e+09, -2.70124561e+11,\n",
              "       -2.52746477e+13, -4.80379689e+13, -8.60469277e+10, -5.22603852e+12,\n",
              "       -1.45650227e+11, -2.39555208e+12, -3.96410544e+14, -7.03491618e+14,\n",
              "       -7.07703707e+11, -6.29163275e+09, -1.39444871e+11, -1.08644908e+13,\n",
              "       -2.54126529e+13, -3.69850040e+10, -3.22179611e+12, -1.96922134e+14,\n",
              "       -5.76180037e+14, -7.54663084e+11, -3.07814972e+16, -5.78405617e+16,\n",
              "       -5.47839498e+13, -1.27577349e+17, -9.94818721e+13, -2.66625530e+11,\n",
              "        6.28666648e+10, -2.15089942e+12,  2.83757198e+11,  2.68706105e+12,\n",
              "       -1.48425014e+14, -2.14909910e+14, -4.02720102e+11, -3.56122357e+13,\n",
              "       -4.36086629e+11,  1.36737754e+12, -2.02068353e+15, -5.15780361e+15,\n",
              "       -4.45656649e+12,  1.64036266e+12,  4.37797875e+12, -1.65470180e+13,\n",
              "        1.22612152e+14,  1.45451458e+11,  3.73305098e+13,  1.66401415e+14,\n",
              "        1.43106347e+15, -5.54327520e+11, -1.49951799e+17, -2.83999427e+17,\n",
              "       -1.29861786e+14, -7.32718843e+17, -1.47548680e+15, -1.31006726e+12,\n",
              "       -2.33147240e+14, -2.08524194e+12,  3.37864775e+13, -1.39367271e+16,\n",
              "       -3.29112989e+16, -3.91865976e+13,  5.11613000e+12,  1.16995410e+13,\n",
              "       -9.79371499e+13,  7.86307924e+14, -5.59995252e+11,  2.15354557e+14,\n",
              "        1.78109750e+15,  1.15569982e+16, -4.74698954e+12, -6.02396249e+17,\n",
              "       -1.16503441e+18, -7.15945810e+14, -1.95280631e+18, -8.27269246e+15,\n",
              "       -7.90105452e+12,  1.14217961e+13,  2.31351740e+13,  3.36616749e+14,\n",
              "        2.38074970e+15,  1.67846714e+12,  6.70156559e+13,  8.22224451e+14,\n",
              "        4.98891614e+15,  4.93487130e+12,  1.94978024e+16,  6.39495277e+16,\n",
              "        4.93292370e+13,  6.90683559e+17,  1.47286276e+14,  1.79501713e+11,\n",
              "        6.88923790e+14,  1.23704275e+16,  5.22400534e+16,  3.97814354e+13,\n",
              "        3.43999273e+17,  1.11937504e+18,  1.22613239e+15,  6.80451183e+18,\n",
              "        1.60366699e+14,  1.20050709e+12,  3.30333299e+19,  3.09198336e+19,\n",
              "        1.68868458e+17,  5.88607774e+19, -4.19611035e+16,  1.49720093e+14,\n",
              "        9.52044059e+20, -2.27587911e+18, -1.49504331e+15, -1.92091797e+12,\n",
              "       -1.52217710e+10, -1.58149000e+10, -2.18655567e+11, -9.65739292e+09,\n",
              "       -2.31079029e+11, -1.63017506e+13, -4.21266634e+13, -6.25344309e+10,\n",
              "       -3.16297999e+10, -3.60763898e+11, -9.29149189e+09, -2.70124561e+11,\n",
              "       -2.52746477e+13, -4.80379689e+13, -8.60469277e+10, -5.22603852e+12,\n",
              "       -1.45650227e+11, -2.39555208e+12, -3.96410544e+14, -7.03491618e+14,\n",
              "       -7.07703707e+11, -6.29163275e+09, -1.39444871e+11, -1.08644908e+13,\n",
              "       -2.54126529e+13, -3.69850040e+10, -3.22179611e+12, -1.96922134e+14,\n",
              "       -5.76180037e+14, -7.54663084e+11, -3.07814972e+16, -5.78405617e+16,\n",
              "       -5.47839498e+13, -1.27577349e+17, -9.94818721e+13, -2.66625530e+11,\n",
              "       -6.32595998e+10, -7.21527797e+11, -1.85829838e+10, -5.40249122e+11,\n",
              "       -5.05492954e+13, -9.60759377e+13, -1.72093855e+11, -1.05420273e+13,\n",
              "       -2.42768209e+11, -3.88649764e+12, -7.65469692e+14, -1.12635501e+15,\n",
              "       -1.37826257e+12, -5.70755225e+09, -1.49924416e+11, -1.68362989e+13,\n",
              "       -2.58188726e+13, -4.77231572e+10, -3.73676979e+12, -3.10558357e+14,\n",
              "       -6.91486585e+14, -9.98739665e+11, -5.67969749e+16, -8.83443065e+16,\n",
              "       -1.02610646e+14, -9.94864394e+16, -1.63609127e+14, -3.80465205e+11,\n",
              "       -1.31801041e+14, -3.46996919e+12, -4.86940437e+13, -1.01850169e+16,\n",
              "       -1.73229459e+16, -1.63854089e+13, -9.82608998e+10, -1.54217282e+12,\n",
              "       -2.63461775e+14, -4.51448494e+14, -4.38780332e+11, -2.50363151e+13,\n",
              "       -3.86236136e+15, -7.33638226e+15, -6.08173182e+12, -8.08765684e+17,\n",
              "       -1.40349124e+18, -1.17107265e+15, -2.34774001e+18, -1.36229707e+15,\n",
              "       -2.77759025e+12, -4.18752538e+09, -8.63626661e+10, -7.37696409e+12,\n",
              "       -1.57313024e+13, -2.20312928e+10, -1.86794801e+12, -1.26135704e+14,\n",
              "       -3.36027112e+14, -4.31641978e+11, -2.04214028e+16, -3.69559896e+16,\n",
              "       -3.31776277e+13, -7.44767141e+16, -4.59343400e+13, -1.54132763e+11,\n",
              "       -4.74544904e+13, -2.16377165e+15, -7.69154791e+15, -9.85369566e+12,\n",
              "       -3.15581219e+17, -6.35735340e+17, -5.15380841e+14, -1.62889422e+18,\n",
              "       -1.26896075e+15, -3.22371744e+12, -6.61012357e+19, -1.17153227e+20,\n",
              "       -8.65159901e+16, -2.07077489e+20, -1.08418863e+17, -2.08557933e+14,\n",
              "       -3.80243608e+20, -5.56248989e+16, -3.23523776e+14, -1.25942582e+12,\n",
              "        1.27983438e+11, -4.27224129e+12,  5.70382434e+11,  5.39124653e+12,\n",
              "       -2.96903750e+14, -4.28652744e+14, -7.93530047e+11, -7.05883574e+13,\n",
              "       -8.35391566e+11,  2.92844226e+12, -4.03978352e+15, -1.02826643e+16,\n",
              "       -8.77430724e+12,  3.28364058e+12,  8.78496245e+12, -3.30824503e+13,\n",
              "        2.47013170e+14,  3.05624729e+11,  7.45373536e+13,  3.31605814e+14,\n",
              "        2.88234248e+15, -9.37866096e+11, -2.99951363e+17, -5.68480237e+17,\n",
              "       -2.60781025e+14, -1.47011457e+18, -2.95312411e+15, -2.49761459e+12,\n",
              "       -9.99503904e+14, -2.60677893e+13, -2.28982093e+14, -5.27278606e+16,\n",
              "       -1.54437063e+17, -9.71321631e+13,  5.30628572e+12,  9.15205719e+12,\n",
              "       -1.36352683e+15, -3.55283182e+15, -2.73093896e+12,  2.32730297e+14,\n",
              "       -9.61531547e+15, -2.79982398e+16, -3.09008249e+13, -3.42560422e+18,\n",
              "       -7.53007502e+18, -3.61820377e+15, -2.44145239e+19, -2.68658950e+16,\n",
              "       -1.89381198e+13,  1.73350913e+13,  4.32948922e+13,  5.25039440e+14,\n",
              "        2.71643491e+15,  3.19918347e+12,  1.18060321e+14,  8.68063596e+14,\n",
              "        6.24390162e+15,  6.94294032e+12, -8.22705071e+16, -1.51368571e+17,\n",
              "       -4.32802132e+13, -3.06722546e+17, -5.46851372e+14, -3.05078653e+11,\n",
              "        1.03921253e+15,  1.39818408e+16,  5.90087171e+16,  2.32081344e+13,\n",
              "       -3.81626489e+17, -7.81711585e+17,  6.30248076e+14, -1.74511148e+18,\n",
              "       -1.29183424e+16, -1.21460551e+13, -2.73027572e+20, -4.94488677e+20,\n",
              "        4.91930930e+16, -1.10806643e+21, -8.34172755e+17, -1.69519791e+14,\n",
              "       -4.24145677e+21, -9.41568803e+18, -7.56908409e+15, -7.66067508e+12,\n",
              "       -6.82524274e+15, -1.66754572e+14, -1.13253341e+15, -4.40999707e+17,\n",
              "       -1.21972678e+18, -1.02562800e+15,  2.59780726e+13,  2.16007178e+13,\n",
              "       -9.54358736e+15, -2.42082633e+16, -3.58260936e+13,  1.55022203e+15,\n",
              "       -9.49952913e+16, -2.34276415e+17, -4.41753770e+14, -2.48834968e+19,\n",
              "       -5.52309047e+19, -3.66955223e+16, -1.87086963e+20, -2.27031490e+17,\n",
              "       -2.09732325e+14,  5.35335060e+13,  8.46200415e+13,  1.83762196e+15,\n",
              "        1.26724536e+16,  5.17042548e+12,  2.59804767e+14,  1.96164040e+15,\n",
              "        1.31798772e+16,  2.53277238e+12, -3.01540297e+17, -8.32281534e+17,\n",
              "       -7.43223397e+14, -6.40217803e+17, -6.53831633e+15, -7.11700850e+12,\n",
              "        5.62538363e+15,  7.56777935e+16,  2.48863025e+17, -1.36901548e+13,\n",
              "       -4.57008616e+18, -5.99419563e+18, -1.09044948e+15, -6.86210708e+18,\n",
              "       -9.29280338e+16, -1.07190442e+14, -6.70367476e+20, -1.65341788e+21,\n",
              "        9.66506460e+17, -5.37408157e+21, -5.23158894e+18, -1.96421332e+15,\n",
              "       -2.09706792e+22, -6.16088932e+19, -4.69557723e+16, -5.52030847e+13,\n",
              "        1.19717966e+14,  2.37433199e+14,  3.53408595e+15,  2.46303553e+16,\n",
              "        1.73646031e+13,  5.86145885e+14,  6.53046978e+15,  3.98808697e+16,\n",
              "        4.37174769e+13,  2.64286230e+17,  8.24335471e+17,  5.70638497e+14,\n",
              "        5.93791133e+18,  2.74801132e+15,  3.17901642e+12,  1.71279391e+15,\n",
              "        1.76196059e+16,  1.06257036e+17,  1.21332209e+14,  4.56779992e+17,\n",
              "        1.42083653e+18,  1.44598624e+15,  8.99983570e+18,  5.58774673e+15,\n",
              "        7.27784550e+12,  5.12109062e+19,  5.60894236e+19,  1.14647341e+17,\n",
              "        7.66511258e+19, -2.70121497e+16,  4.54547805e+13,  1.44857751e+21,\n",
              "       -1.25879328e+18, -7.34650006e+14, -1.13925518e+12,  1.71546270e+16,\n",
              "        3.09299872e+17,  1.11302781e+18,  1.07908403e+15,  6.14340437e+18,\n",
              "        2.05878949e+19,  2.49485693e+16,  1.08565008e+20,  7.17212095e+15,\n",
              "        2.64578098e+13,  3.60982251e+20,  4.10408890e+20,  2.54919546e+18,\n",
              "        1.42094096e+21,  1.62156155e+18,  4.54358055e+15,  1.37713088e+22,\n",
              "       -2.13569358e+19, -1.74399546e+16, -2.13930210e+13,  2.08547271e+23,\n",
              "        2.22118805e+23,  6.12079717e+20,  1.60588621e+23,  7.13306100e+20,\n",
              "        9.64185771e+17, -7.02475747e+22, -1.50902366e+21, -1.58344627e+17,\n",
              "        4.31863282e+14,  8.83645705e+22, -2.01906024e+22, -1.50018409e+19,\n",
              "       -1.22786646e+16, -1.61432583e+13])"
            ]
          },
          "metadata": {},
          "execution_count": 46
        }
      ]
    },
    {
      "cell_type": "code",
      "source": [
        "reg_ridge.intercept_"
      ],
      "metadata": {
        "id": "7yQSiW6JZb-H",
        "colab": {
          "base_uri": "https://localhost:8080/"
        },
        "outputId": "f9155997-1803-4aa1-8750-dffe1f8dcd1b"
      },
      "execution_count": 47,
      "outputs": [
        {
          "output_type": "execute_result",
          "data": {
            "text/plain": [
              "array([1.21801818e+11])"
            ]
          },
          "metadata": {},
          "execution_count": 47
        }
      ]
    },
    {
      "cell_type": "code",
      "source": [
        "preds_train_reg = reg_ridge.predict(X_train_ridge)\n",
        "preds_test_reg = reg_ridge.predict(X_test_ridge)"
      ],
      "metadata": {
        "id": "FvTUAuf_Zb-H"
      },
      "execution_count": 48,
      "outputs": []
    },
    {
      "cell_type": "code",
      "source": [
        "np.sqrt(mean_squared_error(Y_train_ridge, preds_train_reg)), np.sqrt(mean_squared_error(Y_test_ridge, preds_test_reg))"
      ],
      "metadata": {
        "id": "kVgCzslLZb-J",
        "colab": {
          "base_uri": "https://localhost:8080/"
        },
        "outputId": "a0322cbb-f360-4fc2-92da-1fa26d8f7286"
      },
      "execution_count": 49,
      "outputs": [
        {
          "output_type": "execute_result",
          "data": {
            "text/plain": [
              "(5.590069246707205e+37, 5.819998137001913e+37)"
            ]
          },
          "metadata": {},
          "execution_count": 49
        }
      ]
    },
    {
      "cell_type": "markdown",
      "source": [
        "La regularización presenta aun mayor error, en este caso no aplica la regularización ya que el error en entrenammiento y pruebas es similar. Por lo anterior se concluye que la regresión lineal fue el mejor modelo ya que el error fue menor es el que se seleccionaría."
      ],
      "metadata": {
        "id": "9nmLcqmkge-r"
      }
    },
    {
      "cell_type": "markdown",
      "source": [
        "# **Interpretación**\n",
        "\n",
        "1. ¿Cuáles son las 3 variables más importantes para la predicción de la cantidad de\n",
        "usuarios?\n",
        "\n",
        "  Las 3 variables más importantes fueron:\n",
        "    * Los usuarios registrados.\n",
        "    * Los usuarios casuales\n",
        "    * La temperatura\n",
        "\n",
        "2. Describa cual es el escenario ideal para el incremento de usuarios.\n",
        "  * Promocionar el uso de patinetas en verano.\n",
        "  * Verificar las rutas actuales e incentivar o promover otras rutas.\n",
        "  * Promover paseos los fines de semana en espcial el domingo que e el día de la semana en el cual las personas usan menos este tipo de transporte.\n",
        "\n",
        "3. ¿Qué pasos adicionales deberían tener en cuenta para una próxima\n",
        "iteración/mejora del modelo?\n",
        "\n",
        "  Considero que adicional a las variables del clima se debeira de tener en cuenta datos como los siguientes:\n",
        "  * Distancias recorridas. Puede ser que las dos ciudades vecidas en tamaño no sean similares por lo cual los desplazamientos de las personas sean diferentes.\n",
        "  * Datos como edad, genero, estrato de las personas que rentan las patinetas.\n",
        "  * Origen/Destino preferido pos las personas.\n",
        "  * Rutas o zonas de la ciudad con mayor afluencia.\n",
        "  * Es importante validar si en la ciudad hay restricciones de tráfico que impulsen el uso de este medio de transporte y si es igual en la ciudad que se quiere implementar."
      ],
      "metadata": {
        "id": "MdvJYLKRcjHt"
      }
    },
    {
      "cell_type": "markdown",
      "source": [
        "**Notas**:\n",
        "\n",
        "1. Por medio de una gráfica de los grupos de clima identifique un dato atípico en el número de patinetas rentado los días miércoles. Por lo cual busque otro dia con condiciones similares climáticas e impute los valores correspondientes. La gráfica mostraba un promedio de viajes.\n",
        "\n",
        "<img src=\"https://lh3.google.com/u/0/d/1i2MW_tfAdyHx8rYjJeMjWOcR7ch-IJ6w=w3584-h1786-iv2\" width=\"500\" height=\"350\"><br>\n"
      ],
      "metadata": {
        "id": "otyXy1JBuTev"
      }
    }
  ]
}